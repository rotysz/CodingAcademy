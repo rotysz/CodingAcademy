{
 "cells": [
  {
   "cell_type": "markdown",
   "metadata": {},
   "source": [
    "# CodING Academy: Python\n",
    "## Warsztat 2"
   ]
  },
  {
   "cell_type": "markdown",
   "metadata": {},
   "source": [
    "# Wyjątki"
   ]
  },
  {
   "cell_type": "markdown",
   "metadata": {},
   "source": [
    "### Hierarchia wyjątków\n",
    "\n",
    "```\n",
    "BaseException\n",
    " +-- SystemExit\n",
    " +-- KeyboardInterrupt\n",
    " +-- GeneratorExit\n",
    " +-- Exception\n",
    "      +-- StopIteration\n",
    "      +-- StopAsyncIteration\n",
    "      +-- ArithmeticError\n",
    "      |    +-- FloatingPointError\n",
    "      |    +-- OverflowError\n",
    "      |    +-- ZeroDivisionError\n",
    "      +-- AssertionError\n",
    "      +-- AttributeError\n",
    "      +-- BufferError\n",
    "      +-- EOFError\n",
    "      +-- ImportError\n",
    "      |    +-- ModuleNotFoundError\n",
    "      +-- LookupError\n",
    "      |    +-- IndexError\n",
    "      |    +-- KeyError\n",
    "      +-- MemoryError\n",
    "      +-- NameError\n",
    "      |    +-- UnboundLocalError\n",
    "      +-- OSError\n",
    "      |    +-- BlockingIOError\n",
    "      |    +-- ChildProcessError\n",
    "      |    +-- ConnectionError\n",
    "      |    |    +-- BrokenPipeError\n",
    "      |    |    +-- ConnectionAbortedError\n",
    "      |    |    +-- ConnectionRefusedError\n",
    "      |    |    +-- ConnectionResetError\n",
    "      |    +-- FileExistsError\n",
    "      |    +-- FileNotFoundError\n",
    "      |    +-- InterruptedError\n",
    "      |    +-- IsADirectoryError\n",
    "      |    +-- NotADirectoryError\n",
    "      |    +-- PermissionError\n",
    "      |    +-- ProcessLookupError\n",
    "      |    +-- TimeoutError\n",
    "      +-- ReferenceError\n",
    "      +-- RuntimeError\n",
    "      |    +-- NotImplementedError\n",
    "      |    +-- RecursionError\n",
    "      +-- SyntaxError\n",
    "      |    +-- IndentationError\n",
    "      |         +-- TabError\n",
    "      +-- SystemError\n",
    "      +-- TypeError\n",
    "      +-- ValueError\n",
    "      |    +-- UnicodeError\n",
    "      |         +-- UnicodeDecodeError\n",
    "      |         +-- UnicodeEncodeError\n",
    "      |         +-- UnicodeTranslateError\n",
    "      +-- Warning\n",
    "           +-- DeprecationWarning\n",
    "           +-- PendingDeprecationWarning\n",
    "           +-- RuntimeWarning\n",
    "           +-- SyntaxWarning\n",
    "           +-- UserWarning\n",
    "           +-- FutureWarning\n",
    "           +-- ImportWarning\n",
    "           +-- UnicodeWarning\n",
    "           +-- BytesWarning\n",
    "           +-- ResourceWarning\n",
    " ```"
   ]
  },
  {
   "cell_type": "markdown",
   "metadata": {},
   "source": [
    "### Obsługa wyjątków\n",
    "\n",
    "1. Łapanie pojedynczego wyjątku\n",
    "\n",
    "```python\n",
    "try:\n",
    "    ...\n",
    "except Exception:\n",
    "    ...\n",
    "finally:\n",
    "    ...\n",
    "```\n",
    "\n",
    "2. Łapanie wielu wyjątków - wspólna obsługa\n",
    "\n",
    "```python\n",
    "try:\n",
    "    ...\n",
    "except (TypeError, ValueError, IndexError):\n",
    "    ...\n",
    "finally:\n",
    "    ...\n",
    "```\n",
    "\n",
    "3. Łapanie wielu wyjątków - różna obsługa\n",
    "\n",
    "```python\n",
    "try:\n",
    "    ...\n",
    "except TypeError:\n",
    "    ...\n",
    "except ValueError:\n",
    "    ...\n",
    "except IndexError:\n",
    "    ...\n",
    "finally:\n",
    "    ...\n",
    "```"
   ]
  },
  {
   "cell_type": "markdown",
   "metadata": {},
   "source": [
    "## Ćwiczenie\n",
    "Kwota transakcji w poniższej strukturze została zapisana jako string. Przekonwertuj ją na liczbę i zwróć w postaci:\n",
    "```python\n",
    "transaction={'account_from': '9012345678', 'account_to': '9012345679', 'amount': '123.10'}\n",
    "amount=123.1\n",
    "```\n",
    "Gdy kwota nie będzie się dała przekonwertować obsłuż wyjątek i zwróć:\n",
    "```python\n",
    "transaction={'account_from': '9012345678', 'account_to': '9012345679', 'amount': '123.X'}\n",
    "amount not valid\n",
    "```\n",
    "Dane wejściowe:\n",
    "```python\n",
    "transaction1 = {\n",
    "    'account_from': '9012345678',\n",
    "    'account_to': '9012345679',\n",
    "    'amount': '123.10'\n",
    "}\n",
    "transaction2 = {\n",
    "    'account_from': '9012345678',\n",
    "    'account_to': '9012345679',\n",
    "    'amount': '123.X'\n",
    "}\n",
    "```"
   ]
  },
  {
   "cell_type": "code",
   "execution_count": 17,
   "metadata": {},
   "outputs": [
    {
     "name": "stdout",
     "output_type": "stream",
     "text": [
      "amount not valid\n"
     ]
    }
   ],
   "source": [
    "# Tu rozwiązuj\n",
    "transaction2 = {\n",
    "    'account_from': '9012345678',\n",
    "    'account_to': '9012345679',\n",
    "    'amount': '123.x'\n",
    "}\n",
    "\n",
    "try:\n",
    "    amount = float(transaction2[\"amount\"])\n",
    "    print(f'{amount=}')\n",
    "except Exception:\n",
    "    print ('amount not valid')\n",
    "    "
   ]
  },
  {
   "cell_type": "markdown",
   "metadata": {},
   "source": [
    "# Instrukcje Warunkowe\n",
    "\n",
    "**Operatory porównania:**\n",
    "* a<b - a mniejsze od b\n",
    "* a<=b - a mniejsze lub równe od b\n",
    "* a>b - a większe od b\n",
    "* a>=b - a większe lub równe b\n",
    "* a==b a równe b\n",
    "* a!=b - a różne od b\n",
    "\n",
    "**Operatory logiczne:**\n",
    "* a and b - koniunkcja, warunek jest prawdziwy jeśli wyrażenia a oraz b są prawdziwe\n",
    "* a or b - alternatywa, warunek jest prawdziwy jeśli conajmniej jedno wyrażenie a lub b jest prawdziwe\n",
    "* a in b - warunek prawdziwy jeżeli a zawiera się w b (np 'abc' in 'abcd')\n",
    "* a is b - warunek sprawdza, czy zmienne wskazują ten sam obszar w pamięci komputera\n",
    "* not a - warunek oznacza zaprzeczenie wyrażenia a\n",
    "\n",
    "**Instrukcje warunkowe:**\n",
    "<br>\n",
    "<br>\n",
    "**if** *warunek logiczny*:\n",
    "<br>\n",
    "&emsp; instrukcja realizowana, jeśli warunek **True**\n",
    "<br>\n",
    "**elif** *kolejny warunek logiczny*: <span style=\"color:red\">(opcjonalny, może ich być więcej)</span> \n",
    "<br>\n",
    "&emsp; instrukcja realizowana, jeśli warunek jest **True** oraz pierwszy warunek **nie jest True**,\n",
    "<br>\n",
    "**else**: <span style=\"color:red\">(opcjonalny)</span> \n",
    "<br>\n",
    "&emsp; instrukcja realizowana, jeśli żaden z wcześniejszych warunków **nie jest True**\n",
    "\n"
   ]
  },
  {
   "cell_type": "code",
   "execution_count": 1,
   "metadata": {},
   "outputs": [],
   "source": [
    "# Przykład 1\n",
    "# Czy podana liczba NIE jest podzielna przez 8\n",
    "\n",
    "# x = 124413542\n",
    "x = 8\n",
    "\n",
    "if x%8 != 0:\n",
    "    print(f'liczba {x} nie jest podzielna przez 8')\n",
    "    \n",
    "# jeżeli liczba jest podzielna przez 8 nie wykona się instrukcja pętli"
   ]
  },
  {
   "cell_type": "code",
   "execution_count": 2,
   "metadata": {},
   "outputs": [
    {
     "name": "stdout",
     "output_type": "stream",
     "text": [
      "Podaj imię: asqdq\n",
      "aktualna lista osob: ['Agnieszka', 'Weronika', 'Justyna', 'asqdq']\n"
     ]
    }
   ],
   "source": [
    "# Przykład 2\n",
    "# Sprawdzenie, czy osoba znajduje się w liście. \n",
    "# Jeśli nie to dodajemy osobę, jeśli tak zwraca komunikat, że osoba już jest.\n",
    "\n",
    "lista_osob = ['Agnieszka', 'Weronika', 'Justyna']\n",
    "imie = input('Podaj imię: ')\n",
    "if imie not in lista_osob:\n",
    "    lista_osob.append(imie)\n",
    "else:\n",
    "    print('Imię już istnieje w naszej bazie')\n",
    "print('aktualna lista osob:', lista_osob)"
   ]
  },
  {
   "cell_type": "code",
   "execution_count": 1,
   "metadata": {},
   "outputs": [
    {
     "name": "stdout",
     "output_type": "stream",
     "text": [
      "Podaj swój procentowy wynik z testu z przedziału [0,100]: 213\n",
      "Twój wynik procentowy z testu to: 213 \n",
      "Twoja ocena: bardzo dobry\n"
     ]
    }
   ],
   "source": [
    "# Przykład 3\n",
    "# Wyświetl ocenę jaką otzymasz z razwiązanego testu\n",
    "x = int(input(\"Podaj swój procentowy wynik z testu z przedziału [0,100]: \"))\n",
    "if x < 50 :\n",
    "  ocena = \"niedostateczny\"\n",
    "elif x < 60 :\n",
    "  ocena = \"dopuszczający\"\n",
    "elif x < 75 :\n",
    "  ocena = \"dostateczny\"\n",
    "elif x < 90 :\n",
    "  ocena = \"dobry\"\n",
    "else :\n",
    "  ocena = \"bardzo dobry\"\n",
    "  \n",
    "print(\"Twój wynik procentowy z testu to:\",x,\"\\nTwoja ocena:\",ocena) "
   ]
  },
  {
   "cell_type": "markdown",
   "metadata": {},
   "source": [
    "## Ćwiczenie\n",
    "Poniżej znajdują się dwie listy z loginami osób, które logowały się do bankowości 23 sierpnia\n",
    "i 24 sierpnia. Sprawdź, czy były osoby, które logowały się do systemu w oba dni.\n",
    "Jeśli tak stwórz krotkę o nazwie: clients_login z tymi loginami"
   ]
  },
  {
   "cell_type": "code",
   "execution_count": 14,
   "metadata": {},
   "outputs": [
    {
     "name": "stdout",
     "output_type": "stream",
     "text": [
      "['adrmic226', 'amaand450', 'amajan121', 'andmal990', 'angwlo971', 'animaz490', 'anipaw620', 'aribar126', 'aurkow920', 'brokru741', 'dansze630', 'dentom960', 'emiwis800', 'honcza780', 'ignjak711', 'jackra990', 'jarpie740', 'kacjas710', 'klamaz720', 'korkal460', 'ludbak450', 'lukbar600', 'majost690', 'marbar960', 'marchm831', 'marwoz470', 'matzio550', 'oksdab450', 'olabla801', 'olgwlo691', 'rozgor571', 'rysdab741', 'zuzwys700']\n",
      "['adrmic226', 'amaand450', 'amajan121', 'andmal990', 'angwlo971', 'animaz490', 'anipaw620', 'aribar126', 'aurkow920', 'brokru741', 'dansze630', 'dentom960', 'emiwis800', 'honcza780', 'ignjak711', 'jackra990', 'jarpie740', 'kacjas710', 'klamaz720', 'korkal460', 'ludbak450', 'lukbar600', 'majost690', 'marbar960', 'marchm831', 'marwoz470', 'matzio550', 'oksdab450', 'olabla801', 'olgwlo691', 'rozgor571', 'rysdab741', 'zuzwys700']\n"
     ]
    }
   ],
   "source": [
    "august_23 = ['bromro601', 'mardab690', 'marchm831', 'borpio540', 'amaand450', 'anawit920', 'jarpie740', 'leomal900', 'olabla801', 'oktsok780', 'aurkow920', 'emagaj610', 'olgwlo691', 'hubgaj480', 'aribar126', 'jedgor500', 'ludbak450', 'alfbor560', 'rysdab741', 'klamar531', 'dentom960', 'euswoj851', 'jackra990', 'erngaj880', 'ignjak711', 'marglo900', 'brokru741', 'oskzaw930', 'matzio550', 'hubpio750', 'kacjas710', 'alewys530', 'lukbar600', 'aurwit500', 'emiwis800', 'agasik500', 'anipaw620', 'dorszy601', 'korkal460', 'paudab830', 'adrmic226', 'marwoj871', 'angwlo971', 'anawoj730', 'rozgor571', 'berkra730', 'oksdab450', 'monkol332', 'andmal990', 'ewezio830', 'majost690', 'marbla331', 'animaz490', 'pauzal234', 'amajan121', 'dagzie910', 'zuzwys700', 'frasad740', 'klamaz720', 'flokra670', 'dansze630', 'oksbrz423', 'honcza780', 'jolszc960', 'marbar960', 'luiwit910', 'marwoz470']\n",
    "august_24 = ['mirzaw990', 'ksawit650', 'marchm831', 'krysze750', 'kortom810', 'amaand450', 'remkow761', 'guscza991', 'jarpie740', 'alebak970', 'brupaw501', 'olabla801', 'macwis800', 'damnow701', 'aurkow920', 'milwas660', 'barwys221', 'olgwlo691', 'adrkaz540', 'lucbor660', 'aribar126', 'brubar580', 'robost427', 'ludbak450', 'brogor460', 'julbor991', 'rysdab741', 'adrwis651', 'albmar820', 'dentom960', 'kacrut860', 'domurb900', 'jackra990', 'ignlis500', 'romjaw650', 'ignjak711', 'barbor911', 'jarsik500', 'brokru741', 'przgor660', 'alesad471', 'matzio550', 'olagor480', 'kacste231', 'kacjas710', 'jankow480', 'brujan881', 'lukbar600', 'olabrz630', 'emidud331', 'emiwis800', 'alakaz281', 'lilwal941', 'anipaw620', 'alagor471', 'ewawis461', 'korkal460', 'elewal540', 'izaglo760', 'adrmic226', 'feljak970', 'juszal980', 'angwlo971', 'korpio500', 'marpie990', 'rozgor571', 'hormro920', 'gablis510', 'oksdab450', 'werglo870', 'patzio770', 'andmal990', 'kajbor520', 'jolpio460', 'majost690', 'malmar810', 'annszy550', 'animaz490', 'zofand711', 'wanpio851', 'amajan121', 'elwkow760', 'gabprz910', 'zuzwys700', 'amewis860', 'flokru640', 'klamaz720', 'larlis750', 'jozkam540', 'dansze630', 'zuzszu910', 'mirsob951', 'honcza780', 'jagzie961', 'boggor900', 'marbar960', 'larzal730', 'izymac800', 'marwoz470']\n",
    "\n",
    "set_23 = set(august_23)\n",
    "set_24 = set(august_24)\n",
    "\n",
    "set_both = set_23 & set_24 \n",
    "\n",
    "clients_login = tuple(set_both)\n",
    "\n",
    "print (sorted(clients_login))\n",
    "\n",
    "sum_of_lists =sorted( august_23 + august_24)\n",
    "\n",
    "i = 0\n",
    "clients_login = []\n",
    "#print (sum_of_lists)\n",
    "while i < len(sum_of_lists) -1:\n",
    "  if sum_of_lists[i] == sum_of_lists[i+1]:\n",
    "    clients_login.append(sum_of_lists[i])\n",
    "    i+=2\n",
    "  else:\n",
    "    i+=1\n",
    "    \n",
    "print (clients_login)"
   ]
  },
  {
   "cell_type": "markdown",
   "metadata": {},
   "source": [
    "## Ćwiczenie\n",
    "Dany jest model zwracający prawdopodobieństwo spłacenia raty przez klienta w oczekiwanym przez Bank terminie. Zwraca dane w poniższej formie: <br> `dane = {id_klienta: [czy_spłacił_ostatnią_ratę, prawdopodobieństo_spłaty_kolejnej]}` <br>\n",
    "Uzupełnij słownik `komunikacja_z_klientem = {}` zgodnie z poniższymi zasadami:\n",
    "   * jeżeli klient spłacił ostatnią ratę w terminie, a prawdopodobieństwo spłaty kolejnej jest mniejsze niż 60% to dodaj do słownika parę: `id_klienta: 'mail'`\n",
    "   * jeżeli klient nie spłacił ostatniej raty w terminie, a prawdopodobieństwo spłaty kolejnej jest mniejsze niż 60% to dodaj do słownika parę: `id_klienta: 'call'`\n",
    "   * jeżeli klient nie spłacił ostatniej raty w terminie, a prawdopodobieństwo spłaty kolejnej jest z przedziału (60%, 80%] dodaj do słownika parę: `id_klienta: 'mail'`\n"
   ]
  },
  {
   "cell_type": "code",
   "execution_count": 108,
   "metadata": {},
   "outputs": [
    {
     "name": "stdout",
     "output_type": "stream",
     "text": [
      "{'031283': 'call', '831283': 'mail1', '831000': 'mail2'}\n"
     ]
    }
   ],
   "source": [
    "dane = {'031413':[True,0.60],\n",
    "       '031283':[False,0.03],\n",
    "       '831283':[True,0.3],\n",
    "       '831000':[False,0.70]}\n",
    "\n",
    "komunikacja_z_klientem = {}\n",
    "for (numer_klienta,dane) in dane.items():\n",
    "    if dane[0] and dane[1] <0.6:\n",
    "        komunikacja_z_klientem[numer_klienta] = \"mail1\"\n",
    "    elif not dane[0]:\n",
    "        if dane[1] < 0.6:\n",
    "            komunikacja_z_klientem[numer_klienta] = \"call\"\n",
    "        elif dane[1] >= 0.6 and dane[1] <= 0.8:\n",
    "            komunikacja_z_klientem[numer_klienta] = \"mail2\"\n",
    "\n",
    "print (komunikacja_z_klientem)           \n"
   ]
  },
  {
   "cell_type": "markdown",
   "metadata": {},
   "source": [
    "# Pętle\n",
    "Używamy ich gdy potrzeba zrobić coś wiele razy. Przykładowo pętli używamy, gdy trzeba wykonać operację:\n",
    "- znaną ilość razy\n",
    "- dla każdego elementu kolekcji (np listy, zbioru, słownika)\n",
    "- tak długo, aż warunek przestanie być spełniony\n",
    "- w nieskończoność\n",
    "\n",
    "W przypadku pętli niezwykle ważne są wcięcia - oznaczają one blok kodu, który ma być wykonywany w ramach pętli."
   ]
  },
  {
   "cell_type": "markdown",
   "metadata": {},
   "source": [
    "## Pętla while\n",
    "### Anatomia\n",
    "```\n",
    "while <warunek>:\n",
    "    instrukcja\n",
    "    instrukcja\n",
    "    instrukcja\n",
    "\n",
    "```\n",
    "\n",
    "### Jak to działa?\n",
    "1. Sprawdzany jest warunek.\n",
    "1. Jeśli True, to wykonywane są po kolei instrukcje\n",
    "1. Sprawdzany jest warunek\n",
    "1. Jeśli True, to wykonywane są po kolei instrukcje\n",
    "1. itd...\n",
    "\n",
    "### Przydatne info\n",
    "- Pojedyncze wykonanie pętli nazywamy iteracją\n",
    "- Gdy w instrukcjach wewnątrz pętli while nie zadbamy, aby warunek spowodował jej zakończenie, to dostaniemy pętlę nieskończoną (nie zawsze jest to błąd, ale trzeba być świadomym)"
   ]
  },
  {
   "cell_type": "code",
   "execution_count": null,
   "metadata": {},
   "outputs": [],
   "source": [
    "# Przykład\n",
    "i=1\n",
    "while i<=10:\n",
    "    print(i)\n",
    "    i+=1"
   ]
  },
  {
   "cell_type": "markdown",
   "metadata": {},
   "source": [
    "### Ćwiczenie\n",
    "Używając pętli while wypisz na konsolę kolejne liczby z przedziału <10, 20>, oraz te liczby podniesione do kwadratu.\n",
    "```\n",
    "10 100\n",
    "11 121\n",
    "12 144\n",
    "...\n",
    "```"
   ]
  },
  {
   "cell_type": "code",
   "execution_count": 96,
   "metadata": {},
   "outputs": [
    {
     "name": "stdout",
     "output_type": "stream",
     "text": [
      "10 100\n",
      "11 121\n",
      "12 144\n",
      "13 169\n",
      "14 196\n",
      "15 225\n",
      "16 256\n",
      "17 289\n",
      "18 324\n",
      "19 361\n",
      "20 400\n"
     ]
    }
   ],
   "source": [
    "# tu rozwiązuj\n",
    "i =10\n",
    "while i<=20:\n",
    "    print(f'{i} {i*i}')\n",
    "    i+=1      "
   ]
  },
  {
   "cell_type": "markdown",
   "metadata": {},
   "source": [
    "### Ćwiczenie\n",
    "Za pomocą pętli while narysuj taki wzór:\n",
    "```\n",
    "*\n",
    "**\n",
    "***\n",
    "****\n",
    "*****\n",
    "```"
   ]
  },
  {
   "cell_type": "code",
   "execution_count": 9,
   "metadata": {},
   "outputs": [
    {
     "name": "stdout",
     "output_type": "stream",
     "text": [
      "*\n",
      "**\n",
      "***\n",
      "****\n",
      "*****\n"
     ]
    }
   ],
   "source": [
    "# tu rozwiązuj\n",
    "SIZE = 5\n",
    "row = 0\n",
    "while row < SIZE:\n",
    "    print (\"*\"*(row+1))\n",
    "    row += 1"
   ]
  },
  {
   "cell_type": "markdown",
   "metadata": {},
   "source": [
    "### Ćwiczenie\n",
    "Za pomocą pętli while narysuj taki wzór:\n",
    "```\n",
    "*\n",
    "**\n",
    "***\n",
    "****\n",
    "*****\n",
    "****\n",
    "***\n",
    "**\n",
    "*\n",
    "```"
   ]
  },
  {
   "cell_type": "code",
   "execution_count": 6,
   "metadata": {},
   "outputs": [
    {
     "name": "stdout",
     "output_type": "stream",
     "text": [
      "*\n",
      "**\n",
      "***\n",
      "****\n",
      "*****\n",
      "****\n",
      "***\n",
      "**\n",
      "*\n"
     ]
    }
   ],
   "source": [
    "# tu rozwiązuj\n",
    "SIZE = 5\n",
    "row = 0\n",
    "while row < SIZE:\n",
    "    print (\"*\"*(row+1))\n",
    "    row += 1\n",
    "row -= 1    \n",
    "while row > 0 :\n",
    "    print (\"*\"*(row))\n",
    "    row -= 1\n",
    "    "
   ]
  },
  {
   "cell_type": "markdown",
   "metadata": {},
   "source": [
    "### Ćwiczenie\n",
    "Używając pętli while wypisz na konsolę kolejne elementy tablicy podniesione do kwadratu. "
   ]
  },
  {
   "cell_type": "code",
   "execution_count": 11,
   "metadata": {},
   "outputs": [
    {
     "name": "stdout",
     "output_type": "stream",
     "text": [
      "tablica[index]**2=9\n",
      "tablica[index]**2=16\n",
      "tablica[index]**2=25\n",
      "tablica[index]**2=36\n",
      "tablica[index]**2=49\n",
      "tablica[index]**2=64\n",
      "tablica[index]**2=81\n"
     ]
    }
   ],
   "source": [
    "tablica = [3,4,5,6,7,8,9]\n",
    "# tu rozwiązuj\n",
    "index = 0\n",
    "while index <len(tablica):\n",
    "    print(f'{tablica[index]**2=}') \n",
    "    index +=1"
   ]
  },
  {
   "cell_type": "markdown",
   "metadata": {},
   "source": [
    "## Pętla for\n",
    "### Anatomia\n",
    "```python\n",
    "for <zmienna_tymczasowa> in <generator lub kolekcja>:\n",
    "    instrukcja\n",
    "    instrukcja\n",
    "    instrukcja\n",
    "# Opcjonalnie można dodać sekcję else. To wykona się po zakończeniu pętli\n",
    "else:\n",
    "    instrukcja\n",
    "````"
   ]
  },
  {
   "cell_type": "code",
   "execution_count": null,
   "metadata": {
    "scrolled": true
   },
   "outputs": [],
   "source": [
    "# Przykład\n",
    "for i in range(10):\n",
    "    print(i)"
   ]
  },
  {
   "cell_type": "code",
   "execution_count": null,
   "metadata": {
    "scrolled": true
   },
   "outputs": [],
   "source": [
    "# Przykład\n",
    "for i in [4,5,6]:\n",
    "    print(i)"
   ]
  },
  {
   "cell_type": "code",
   "execution_count": null,
   "metadata": {
    "scrolled": false
   },
   "outputs": [],
   "source": [
    "# Przykład\n",
    "for letter in 'word':\n",
    "    print(letter)"
   ]
  },
  {
   "cell_type": "markdown",
   "metadata": {},
   "source": [
    "### Ćwiczenie\n",
    "Użyj pętli for aby przeiterować po słowniku. Zwróć na ekran klucze i wartości:\n",
    "Chodzi o taki wynik:\n",
    "```\n",
    "imie: Jan\n",
    "nazwisko: Kowalski\n",
    "wiek: 30\n",
    "stan_rachunku: 120.52\n",
    "numery_kart: ['4532671747984653', '4929314792236106']\n",
    "```"
   ]
  },
  {
   "cell_type": "code",
   "execution_count": 88,
   "metadata": {},
   "outputs": [
    {
     "name": "stdout",
     "output_type": "stream",
     "text": [
      "imie: Jan\n",
      "nazwisko: Kowalski\n",
      "wiek: 30\n",
      "stan_rachunku: 120.52\n",
      "numery_kart: ['4532671747984653', '4929314792236106']\n"
     ]
    }
   ],
   "source": [
    "sample_dict = {'imie': 'Jan', \n",
    "               'nazwisko': 'Kowalski', \n",
    "               'wiek': 30, \n",
    "               'stan_rachunku': 120.52, \n",
    "               'numery_kart': ['4532671747984653', '4929314792236106']}\n",
    "# Tu rozwiązuj.\n",
    "for (key, value) in sample_dict.items():\n",
    "    print (f'{key}: {value}')"
   ]
  },
  {
   "cell_type": "markdown",
   "metadata": {},
   "source": [
    "## Break i continue\n",
    "Jeśli interpreter wewnątrz pętli napotka słowa break lub continue, to zachowa się w następujący sposób:\n",
    "- break - natychmiast wyjdzie z pętli (bez wykonywnaia pozostałych komend aktualnej iteracji)\n",
    "- continue - natychmiast zacznie wykonywać kolejną iterację pętli od początku (pominie pozostałe instrukcje aktualnej iteracji)"
   ]
  },
  {
   "cell_type": "markdown",
   "metadata": {},
   "source": [
    "### Ćwiczenie\n",
    "Użyj pętli, oraz break / continue, aby uzyskać tablice:\n",
    "1. output_data = [1,2,3,4]\n",
    "2. output_data = [1,2,4,5,7,8]\n",
    "\n",
    "input_data = [1,2,3,4,5,6,7,8,9]"
   ]
  },
  {
   "cell_type": "code",
   "execution_count": 19,
   "metadata": {},
   "outputs": [
    {
     "name": "stdout",
     "output_type": "stream",
     "text": [
      "output_data1=[1, 2, 3, 4]\n",
      "output_data2=[1, 2, 4, 5, 7, 8]\n"
     ]
    }
   ],
   "source": [
    "# Tu rozwiązuj\n",
    "input_data = [1,2,3,4,5,6,7,8,9]\n",
    "output_data1 = []\n",
    "output_data2 = []\n",
    "for elem in input_data:\n",
    "    if elem > 4:\n",
    "        break\n",
    "    else :\n",
    "        output_data1.append(elem)\n",
    "\n",
    "for elem in input_data:\n",
    "    if (elem % 3) == 0 :\n",
    "        continue\n",
    "    else :\n",
    "        output_data2.append(elem)        \n",
    "\n",
    "print (f\"{output_data1=}\")\n",
    "print (f\"{output_data2=}\")\n"
   ]
  },
  {
   "cell_type": "markdown",
   "metadata": {},
   "source": [
    "## Enumarate\n",
    "Czasami istnieje potrzeba aby wewnątrz pętli możliwe było użycie ideksu elementu. Enumerate to funkcja wbudowana, która wywołana w pętli zlicza jej wykonania.\n",
    "### Warto zapamiętać:\n",
    "- to co zwraca enumerate nie jest indeksem! to zwykły licznik, który może odpowiadać swoją wartością indeksowi, ale nie musi\n",
    "- enumarate przyjmuje opcjonalny drugi argument, który wskazuje wartość od której należy zacząć liczyć "
   ]
  },
  {
   "cell_type": "code",
   "execution_count": null,
   "metadata": {},
   "outputs": [],
   "source": [
    "# Przykład\n",
    "my_list = ['apple', 'banana', 'grapes', 'pear']\n",
    "for counter, item in enumerate(my_list):\n",
    "    print(counter, item)"
   ]
  },
  {
   "cell_type": "markdown",
   "metadata": {},
   "source": [
    "## List / set / dict comprehension\n",
    "To specyficzny sposób zapisu pętli. Pozwala w jednej linii kodu zawrzeć funkcję, pętlę for i opcjonalnie warunek. Wynikiem działania jest lista set lub dict."
   ]
  },
  {
   "cell_type": "code",
   "execution_count": null,
   "metadata": {},
   "outputs": [],
   "source": [
    "sample_list = [1,2,3,4,5]\n",
    "sample_set = {6,7,8,9, 0}\n",
    "sample_dict = {'key1': 11, 'key2': 12, 'key3': 13, 'key4': 14}\n",
    "\n",
    "# list comprehension\n",
    "[2*x for x in sample_list if x%2==0]\n",
    "\n",
    "# set comprehension\n",
    "{2*x for x in sample_set if x%2==0}\n",
    "\n",
    "# dict comprehension\n",
    "{k:2 * v for (k,v) in sample_dict.items() if v%2==0}"
   ]
  },
  {
   "cell_type": "markdown",
   "metadata": {},
   "source": [
    "### Ćwiczenie\n",
    "Użyj dict comprehension, aby zamienić klucze na wartości i odwrotnie.\n",
    "\n",
    "`sample_dict = {'key1': 11, 'key2': 12, 'key3': 13, 'key4': 14}`\n",
    "\n",
    "Powinieneś otrzymać coś takiego:\n",
    "\n",
    "`{11: 'key1', 12: 'key2', 13: 'key3', 14: 'key4'}`"
   ]
  },
  {
   "cell_type": "code",
   "execution_count": 20,
   "metadata": {},
   "outputs": [
    {
     "data": {
      "text/plain": [
       "{11: 'key1', 12: 'key2', 13: 'key3', 14: 'key4'}"
      ]
     },
     "execution_count": 20,
     "metadata": {},
     "output_type": "execute_result"
    }
   ],
   "source": [
    "# Tutaj rozwiązuj\n",
    "sample_dict = {'key1': 11, 'key2': 12, 'key3': 13, 'key4': 14}\n",
    "{value:key for (key, value) in sample_dict.items()}"
   ]
  },
  {
   "cell_type": "markdown",
   "metadata": {},
   "source": [
    "### Ćwiczenie\n",
    "Użyj dict comprehension aby przerobić listę na słownik: \n",
    "- Kluczem w słowniku powinien być indeks, a wartością pozycja listy podniesiona do potegi 2.\n",
    "- W słowniku powinny się znaleźć tylko elementy listy o indeksach nieparzystych.\n",
    "\n",
    "`input_data = [1, 3, 5, 7, 9, 11, 13, 15, 17, 19, 21]`"
   ]
  },
  {
   "cell_type": "code",
   "execution_count": 84,
   "metadata": {},
   "outputs": [
    {
     "data": {
      "text/plain": [
       "{0: 1,\n",
       " 1: 9,\n",
       " 2: 25,\n",
       " 3: 49,\n",
       " 4: 81,\n",
       " 5: 121,\n",
       " 6: 169,\n",
       " 7: 225,\n",
       " 8: 289,\n",
       " 9: 361,\n",
       " 10: 441}"
      ]
     },
     "execution_count": 84,
     "metadata": {},
     "output_type": "execute_result"
    }
   ],
   "source": [
    "input_data = [1, 3, 5, 7, 9, 11, 13, 15, 17, 19, 21]\n",
    "# Tutaj rozwiązuj\n",
    "{i:elem**2 for (i,elem) in enumerate(input_data) if not elem%2==0 }"
   ]
  },
  {
   "cell_type": "markdown",
   "metadata": {},
   "source": [
    "## Pętle zagnieżdżone\n",
    "Pętle można w sobie zagnieżdżać. Przydaje się to, gdy istnieje konieczność wykonania operacji na elemencie który jest \"wielowymiarowy\" (przykład - macierz jedna pętla iteruje po wierszach, a druga po kolumnach)\n",
    "\n",
    "### Anatomia\n",
    "Wytłumacz jaka jest kolejność wykonywania  instrukcji w pętli zagnieżdżonej.\n",
    "```\n",
    "for a in range(0,10):\n",
    "    for b in range (0,10):\n",
    "        print(a, b)\n",
    "```"
   ]
  },
  {
   "cell_type": "code",
   "execution_count": 80,
   "metadata": {},
   "outputs": [
    {
     "name": "stdout",
     "output_type": "stream",
     "text": [
      "a=1\n",
      "a=1 b=1\n",
      "a=1 b=2\n",
      "a=1 b=3\n",
      "a=1 b=4\n",
      "a=2\n",
      "a=2 b=1\n",
      "a=2 b=2\n",
      "a=2 b=3\n",
      "a=2 b=4\n",
      "a=3\n",
      "a=3 b=1\n",
      "a=3 b=2\n",
      "a=3 b=3\n",
      "a=3 b=4\n",
      "a=4\n",
      "a=4 b=1\n",
      "a=4 b=2\n",
      "a=4 b=3\n",
      "a=4 b=4\n"
     ]
    }
   ],
   "source": [
    "for a in range(1,5):\n",
    "    print(f'{a=}')\n",
    "#     print(f'{b=}')\n",
    "    for b in range (1,5):\n",
    "        print(f'{a=} {b=}')"
   ]
  },
  {
   "cell_type": "markdown",
   "metadata": {},
   "source": [
    "Nic nie stoi na przeszkodzie, aby zagnieżdżać pętle wielokrotnie, ale wpływa to nagatywnie na czytelność kodu"
   ]
  },
  {
   "cell_type": "code",
   "execution_count": null,
   "metadata": {},
   "outputs": [],
   "source": [
    "for a in range(1,5):\n",
    "    print(f'{a=}')\n",
    "#     print(f'{b=}')\n",
    "    for b in range (1,5):\n",
    "        print(f'{a=} {b=}')\n",
    "        for c in range (1,5):\n",
    "            print(f'{a=} {b=} {c=}')"
   ]
  },
  {
   "cell_type": "markdown",
   "metadata": {},
   "source": [
    "### Ćwiczenie\n",
    "Mając zdefiniowane zmienne x i y wypisz na ekran tabliczkę mnożenia o wymiarach x na y.\n",
    "\n",
    "```python\n",
    "x=3\n",
    "y=4\n",
    "\n",
    "1    2    3    \n",
    "\n",
    "2    4    6    \n",
    "\n",
    "3    6    9    \n",
    "\n",
    "4    8    12    \n",
    "```"
   ]
  },
  {
   "cell_type": "code",
   "execution_count": 79,
   "metadata": {},
   "outputs": [
    {
     "name": "stdout",
     "output_type": "stream",
     "text": [
      "    1    2    3    4    5    6    7    8    9   10\n",
      "    2    4    6    8   10   12   14   16   18   20\n",
      "    3    6    9   12   15   18   21   24   27   30\n",
      "    4    8   12   16   20   24   28   32   36   40\n",
      "    5   10   15   20   25   30   35   40   45   50\n",
      "    6   12   18   24   30   36   42   48   54   60\n",
      "    7   14   21   28   35   42   49   56   63   70\n",
      "    8   16   24   32   40   48   56   64   72   80\n",
      "    9   18   27   36   45   54   63   72   81   90\n",
      "   10   20   30   40   50   60   70   80   90  100\n"
     ]
    }
   ],
   "source": [
    "# Tu rozwiązuj\n",
    "x=10\n",
    "y=10\n",
    "\n",
    "for i in range (1,y+1):\n",
    "    row = ''  \n",
    "    for j in range (1,x+1):\n",
    "    row += f'{(i*j):5d}'\n",
    "    print(row) \n",
    "  "
   ]
  },
  {
   "cell_type": "markdown",
   "metadata": {},
   "source": [
    "### Ćwiczenie\n",
    "Mając zdefiniowane zmienne x i y wypisz na ekran szachwonicę o wymiarach x na y. \n",
    "\n",
    "Pola czarne to # a białe to *\n",
    "\n",
    "Przykład (10x10)\n",
    "```\n",
    "#\t*\t#\t*\t#\t*\t#\t*\t#\t*\t\n",
    "*\t#\t*\t#\t*\t#\t*\t#\t*\t#\t\n",
    "#\t*\t#\t*\t#\t*\t#\t*\t#\t*\t\n",
    "*\t#\t*\t#\t*\t#\t*\t#\t*\t#\t\n",
    "#\t*\t#\t*\t#\t*\t#\t*\t#\t*\t\n",
    "*\t#\t*\t#\t*\t#\t*\t#\t*\t#\t\n",
    "#\t*\t#\t*\t#\t*\t#\t*\t#\t*\t\n",
    "*\t#\t*\t#\t*\t#\t*\t#\t*\t#\t\n",
    "#\t*\t#\t*\t#\t*\t#\t*\t#\t*\t\n",
    "*\t#\t*\t#\t*\t#\t*\t#\t*\t#\t\n",
    "```"
   ]
  },
  {
   "cell_type": "code",
   "execution_count": 71,
   "metadata": {},
   "outputs": [
    {
     "name": "stdout",
     "output_type": "stream",
     "text": [
      "# * # * # * # * \n",
      "# * # * # * # * \n",
      "# * # * # * # * \n",
      "# * # * # * # * \n",
      "# * # * # * # * \n",
      "# * # * # * # * \n",
      "# * # * # * # * \n",
      "# * # * # * # * \n",
      "# * # * # * # * \n",
      "# * # * # * # * \n"
     ]
    }
   ],
   "source": [
    "# tu rozwiązuj\n",
    "x= 9\n",
    "y =10\n",
    "for i in range (0,y):\n",
    "    print (('# * '* int(x/2))[0:(x*2)])\n",
    "  "
   ]
  },
  {
   "cell_type": "markdown",
   "metadata": {},
   "source": [
    "\n",
    "\n",
    "### Ćwiczenie\n",
    "Użyj pętli i instrukcji warunkowej, aby znaleźć wszystkie liczby podzielne przez 7 w przedziale <1500, 7000>. Przedział jest obustronnie domknięty, więc trzeba wziąć pod uwagę też liczby 1500 i 7000.\n",
    "\n",
    "Odpowiedź, to krotka (tuple) z ilością liczb podzielnych przez 7 i ich sumą:\n",
    "(ilosc, suma)"
   ]
  },
  {
   "cell_type": "code",
   "execution_count": 41,
   "metadata": {},
   "outputs": [
    {
     "name": "stdout",
     "output_type": "stream",
     "text": [
      "(786, 3342465)\n"
     ]
    }
   ],
   "source": [
    "# Tu rozwiązuj\n",
    "ilosc = 0\n",
    "suma = 0\n",
    "for liczba in range(1500,7001):\n",
    "    if liczba %7 == 0:\n",
    "        ilosc += 1;\n",
    "        suma += liczba;\n",
    "        #print(liczba)\n",
    "\n",
    "res = (ilosc, suma)       \n",
    "print (res)"
   ]
  },
  {
   "cell_type": "markdown",
   "metadata": {},
   "source": [
    "### Ćwiczenie\n",
    "Napisz kod rysujący choinkę o zadanej wysokości. Przykłady choinek:\n",
    "```\n",
    "h=3\n",
    "--*--\n",
    "-***-\n",
    "*****\n",
    "\n",
    "h=5\n",
    "----*----\n",
    "---***---\n",
    "--*****--\n",
    "-*******-\n",
    "*********\n",
    "```"
   ]
  },
  {
   "cell_type": "code",
   "execution_count": 36,
   "metadata": {},
   "outputs": [
    {
     "name": "stdout",
     "output_type": "stream",
     "text": [
      "--------- * ---------\n",
      "-------- *** --------\n",
      "------- ***** -------\n",
      "------ ******* ------\n",
      "----- ********* -----\n",
      "---- *********** ----\n",
      "--- ************* ---\n",
      "-- *************** --\n",
      "- ***************** -\n",
      " ******************* \n"
     ]
    }
   ],
   "source": [
    "# Tu rozwiązuj\n",
    "h=10\n",
    "for i in range (0,h):\n",
    "    print ('-'*(h-i-1),'*'*(i*2+1),'-'*(h-i-1))"
   ]
  },
  {
   "cell_type": "markdown",
   "metadata": {},
   "source": [
    "### Ćwiczenie\n",
    "Yoda wiadomość opublikować chce, ale popsuta jest ona. Duże i małe literki jakiś zły imperator pomieszał. Napraw.\n",
    "\n",
    "Zadanie polega na zmianie wielkości liter w stringu zapisanym w zmiennej input tak, aby każde słowo pisane było wyłącznie WIELKIMI lub wyłącznie małymi literami.\n",
    "\n",
    "Zasady są takie:\n",
    "- w każdym słowie robimy tak mało zmian jak to możliwe\n",
    "- jeśli słowo zawiera taką samą ilość WIELKICH i małych liter, to zmieniamy litery na małe.\n",
    "\n",
    "Przykłady:\n",
    "```\n",
    "\"abCd\" -> \"abcd\" - liter małych = 3 > liter wielkich = 1, zmieniamy wszystkie na małe.\n",
    "\"ABCd\" -> \"ABCD\" - liter małych = 1 < liter wielkich = 3, zmieniamy wszystkie na WIELKIE.\n",
    "\"abCD\" -> \"abcd\" - liter małych = 2 == liter wielkich = 2, zmieniamy wszystkie na małe.\n",
    "\"KoDowanie w PyThOnIe jEST fAJNe\" -> \"kodowanie w pythonie JEST FAJNE\"\n",
    "```\n",
    "Dane:\n",
    "```\n",
    "input = 'ReAdY are you? WhaT knoW YOU Of rEADy? For eighT HUnDreD yeaRS hAVE i TrAineD JEDI. mY oWN CoUNSEl WILl I kEeP On WHo Is tO Be tRaiNed. A jEdI MUst havE tHe DEepEst CommitmEnt, the moSt serioUS MiNd. This ONE a LonG tiME HAVe I WatcHEd. aLl hiS LiFE HAs he LOoKEd awAY… to THe FUTurE, tO The HORizon. nEvEr His mind on WheRE hE WAs. hMM? WhAT hE Was DoiNG. hmPh. ADVeNTUre. HeH. eXciTeMENt. heh. A JeDi crAveS nOT TheSe THingS. yoU ARe RecKLESs.'\n",
    "```"
   ]
  },
  {
   "cell_type": "code",
   "execution_count": 30,
   "metadata": {},
   "outputs": [
    {
     "name": "stdout",
     "output_type": "stream",
     "text": [
      "['ReAdY', 'are', 'you?', 'WhaT', 'knoW', 'YOU', 'Of', 'rEADy?', 'For', 'eighT', 'HUnDreD', 'yeaRS', 'hAVE', 'i', 'TrAineD', 'JEDI.', 'mY', 'oWN', 'CoUNSEl', 'WILl', 'I', 'kEeP', 'On', 'WHo', 'Is', 'tO', 'Be', 'tRaiNed.', 'A', 'jEdI', 'MUst', 'havE', 'tHe', 'DEepEst', 'CommitmEnt,', 'the', 'moSt', 'serioUS', 'MiNd.', 'This', 'ONE', 'a', 'LonG', 'tiME', 'HAVe', 'I', 'WatcHEd.', 'aLl', 'hiS', 'LiFE', 'HAs', 'he', 'LOoKEd', 'awAY…', 'to', 'THe', 'FUTurE,', 'tO', 'The', 'HORizon.', 'nEvEr', 'His', 'mind', 'on', 'WheRE', 'hE', 'WAs.', 'hMM?', 'WhAT', 'hE', 'Was', 'DoiNG.', 'hmPh.', 'ADVeNTUre.', 'HeH.', 'eXciTeMENt.', 'heh.', 'A', 'JeDi', 'crAveS', 'nOT', 'TheSe', 'THingS.', 'yoU', 'ARe', 'RecKLESs.']\n",
      "READY are you? what know YOU of READY? for eight HUNDRED years HAVE i trained JEDI. my OWN COUNSEL WILL I keep on WHO is to be trained. A jedi must have the deepest commitment, the most serious mind. this ONE a long time HAVE I watched. all his LIFE HAS he LOOKED away… to THE FUTURE, to the horizon. never his mind on WHERE he WAS. HMM? WHAT he was DOING. hmph. ADVENTURE. HEH. excitement. heh. A jedi craves NOT these things. you ARE RECKLESS. \n"
     ]
    }
   ],
   "source": [
    "# Tu rozwiązuj\n",
    "input = 'ReAdY are you? WhaT knoW YOU Of rEADy? For eighT HUnDreD yeaRS hAVE i TrAineD JEDI. mY oWN CoUNSEl WILl I kEeP On WHo Is tO Be tRaiNed. A jEdI MUst havE tHe DEepEst CommitmEnt, the moSt serioUS MiNd. This ONE a LonG tiME HAVe I WatcHEd. aLl hiS LiFE HAs he LOoKEd awAY… to THe FUTurE, tO The HORizon. nEvEr His mind on WheRE hE WAs. hMM? WhAT hE Was DoiNG. hmPh. ADVeNTUre. HeH. eXciTeMENt. heh. A JeDi crAveS nOT TheSe THingS. yoU ARe RecKLESs.'\n",
    "words = input.split(\" \")\n",
    "print(words)\n",
    "sentence = ''\n",
    "for word in words:\n",
    "    lowcase_count = 0\n",
    "    uppercase_count = 0\n",
    "    for letter in word:\n",
    "        if letter >= 'a' and letter <= 'z':\n",
    "            lowcase_count +=1\n",
    "        elif letter >= 'A' and letter <= 'Z':\n",
    "             uppercase_count +=1\n",
    "        \n",
    "    if lowcase_count >= uppercase_count:\n",
    "        sentence += word.lower() + ' ';\n",
    "       # print (f'{word.lower()} ')\n",
    "    else:\n",
    "        sentence += word.upper() + ' ';\n",
    "      #  print (f'{word.upper()} ')\n",
    "        \n",
    "print(sentence)       "
   ]
  },
  {
   "cell_type": "markdown",
   "metadata": {},
   "source": [
    "### Ćwiczenie\n",
    "Na niewielkiej planecie Tatooine mieszka na początku roku initial_inhabitants mieszkańców. Populacja co roku rośnie o pewien procent - percent i dodatkowo przybywa z innych planet number_of_foreign_inhabitants mieszkańców. Ile lat minie, aby populacja przekroczyła total_inhabitants mieszkańców?\n",
    "Napisz fragment kodu, który zagadkę rozwiąże.\n",
    "\n",
    "Przykład:\n",
    "```\n",
    "initial_inhabitants = 1000\n",
    "percent = 2\n",
    "number_of_foreign_inhabitants = 50\n",
    "total_inhabitants = 1200\n",
    "\n",
    "Po pierwszym roku: \n",
    "1000 + 1000 * 0.02 + 50 => 1070 mieszkańców\n",
    "Po drugim roku: \n",
    "1070 + 1070 * 0.02 + 50 => 1141 mieszkańców (pamiętaj, że ilość mieszkańców jest liczbą całkowitą)\n",
    "Po trzecim roku:\n",
    "1141 + 1141 * 0.02 + 50 => 1213\n",
    "\n",
    "Więc potrzeba 3 pełnych lat.\n",
    "```"
   ]
  },
  {
   "cell_type": "code",
   "execution_count": 20,
   "metadata": {},
   "outputs": [
    {
     "name": "stdout",
     "output_type": "stream",
     "text": [
      "1 -> 1070\n",
      "2 -> 1141\n",
      "3 -> 1214\n",
      "4 -> 1289\n",
      "5 -> 1364\n",
      "6 -> 1442\n",
      "7 -> 1520\n",
      "8 -> 1601\n",
      "9 -> 1683\n",
      "10 -> 1766\n",
      "11 -> 1852\n",
      "Total 11\n"
     ]
    }
   ],
   "source": [
    "# Tu rozwiązuj\n",
    "\n",
    "initial_inhabitants = 1000\n",
    "percent = 2\n",
    "number_of_foreign_inhabitants = 50\n",
    "total_inhabitants = 1800\n",
    "\n",
    "inhabitants = initial_inhabitants\n",
    "years = 0 \n",
    "while inhabitants < total_inhabitants:\n",
    "    years+=1\n",
    "    inhabitants = inhabitants * (1+0.01 *percent) + number_of_foreign_inhabitants\n",
    "    print (f'{years} -> {inhabitants:.0f}')\n",
    "\n",
    "print(f'Total {years}')"
   ]
  },
  {
   "cell_type": "markdown",
   "metadata": {},
   "source": [
    "### Ćwiczenie\n",
    "Sprytem wykazać się musisz. Nie do pary element znajdź ty. Liczb tablicę dostaniesz. Będą w niej liczby ujemne i ich dodatnie odpowiedniki. Jedna liczba będzie wyłącznie ujemna lub wyłącznie dodatnia. Znajdź tą liczbę, a odpowiedź na ważne pytanie otrzymasz.\n",
    "```\n",
    "Przykłady:\n",
    "[1, -1, 2, -2, 3] => 3\n",
    "3 nie ma ujemnego odpowiednika\n",
    "\n",
    "[-3, 1, 2, 3, -1, -4, -2] => -4\n",
    "-4 nie ma dodatniego odpowiednika\n",
    "\n",
    "[1, -1, 2, -2, 3, 3] => 3\n",
    "Poszukiwane liczby mogą się powtarzać!\n",
    "```"
   ]
  },
  {
   "cell_type": "code",
   "execution_count": 6,
   "metadata": {},
   "outputs": [
    {
     "name": "stdout",
     "output_type": "stream",
     "text": [
      "42\n"
     ]
    }
   ],
   "source": [
    "input = [842, -678, -343, -686, -127, -197, 175, 888, 79, -751, 967, -620, -372, -674, -538, -229, -580, -962, -677, 983, 144, 39, 966, -37, 438, 538, -693, -65, 345, 558, -434, -12, 963, -972, -5, 705, 209, -623, -382, -355, 617, -773, 812, 426, -642, -921, -129, 118, 330, -401, -926, 519, 890, -575, 500, -659, 452, -433, 19, -90, -247, -986, 401, -160, -631, -489, 244, -698, -995, 72, 826, -670, -776, 253, -894, -886, 849, -640, 956, 754, 685, -124, -509, -555, -726, -69, 1000, 226, -887, -256, -745, -400, -321, 537, 765, -744, 265, -910, -22, -449, -26, -345, 840, 322, -514, 186, 526, 771, -568, -88, 798, 950, -781, -798, 355, 347, -381, -360, 908, -161, -558, 172, -593, 309, 136, -192, -36, 42, -484, -302, -559, -699, -916, -802, -510, -521, 264, 598, -806, 191, -133, -20, 440, 427, 688, 127, -100, -130, -924, -486, -439, -543, 168, -739, 776, -941, -126, -660, 102, -566, 211, 29, -945, -630, 682, -844, -716, 133, -615, 761, 141, 848, -993, 294, 408, -385, -870, -118, -444, 961, -540, -328, 937, 163, 475, 205, 578, -398, -271, -488, 988, -847, -267, -763, -819, -794, 255, -263, 592, 200, -353, -276, -273, 941, -961, -248, -920, -332, -954, -526, -619, 861, 57, 439, -244, -393, -644, -653, 661, 247, -390, -527, -70, -334, -24, 380, -582, -254, -110, 382, 530, 973, 222, 478, -658, -681, -535, -412, -459, 281, -850, 721, -968, 259, -525, -341, -742, -277, -820, -221, 546, 895, -648, 497, 850, -7, 869, 16, -500, 134, 393, -879, -253, -946, 219, 365, -821, 34, -953, 157, -316, -989, -40, 933, 481, -602, 954, -506, -156, -414, -311, 494, -556, 616, -362, 8, -279, 99, 762, -240, -906, 870, -730, 116, 323, 119, -965, 432, -646, 708, -975, 981, -227, -882, 106, -319, -710, -426, -188, 575, 987, -305, 693, 951, 841, -812, -424, 125, 275, -261, -741, 794, 697, 993, -944, -310, 80, -14, -164, 542, 84, -78, -690, -376, -411, 12, -675, 787, 63, 74, -205, -513, 576, 287, 83, 837, -165, -982, 258, -948, -524, 784, 614, 915, 346, 85, -977, -432, 194, -579, 81, -443, 277, 279, 572, 472, 434, -455, -608, -546, -530, 117, -75, 867, -92, -213, 743, -857, -923, 261, 830, -523, -474, -137, 836, -757, 313, 442, -25, 42, -673, 738, 7, -717, 716, -695, 649, -938, -588, -657, -676, -13, -796, -324, 407, 444, -581, -656, -278, 774, -971, -231, -780, 498, -666, 881, 561, -142, 341, 851, -713, 58, 746, 948, 806, -395, -429, 663, 982, -520, 463, -155, 926, -654, 388, 548, 105, 37, -492, -627, -875, 217, 46, 935, 38, -46, 352, -265, 922, -883, -387, -899, 456, -725, 650, 135, -980, -765, -600, 254, -264, 239, -594, -168, -404, -569, -479, -266, 527, 626, 329, 449, 123, 529, 795, -274, -831, -511, -11, -471, 68, -389, 373, -1000, -73, -336, 42, -652, -560, 686, -399, 905, -960, -464, -818, -939, 161, 712, 846, 305, -304, 284, 459, -108, 952, 466, 214, -922, 383, 756, 706, -891, 690, -904, 770, -825, -625, 573, -86, 939, -35, 872, 223, 213, 364, 267, 528, -268, -309, 132, 269, 197, 285, 559, -158, -907, -236, 274, -869, 835, -649, 906, 928, -326, -635, 885, 260, -17, 331, 615, -502, 353, -736, -212, -284, 944, -990, -31, -720, 827, -374, 453, -541, -604, 550, -150, -934, 569, -550, 339, 733, 554, -854, 587, 332, -325, -722, -621, -610, 336, 544, 242, 799, -528, 324, 779, 370, 918, -969, 45, -958, 391, -367, 89, 647, 520, -951, 629, -245, 49, 238, 212, 543, -152, 113, 560, 11, -793, 515, -501, -50, 14, -480, -207, -573, 196, 188, -803, -599, 437, 567, -516, -445, -351, -495, 308, -889, 631, 328, 369, 854, 386, -851, -375, -354, -233, 15, -363, 775, 92, 496, 964, -347, 766, 208, 699, 412, 791, -709, -671, 325, -134, 203, 40, 668, -342, -223, -454, -805, 677, 769, 606, 675, 714, 847, -346, -423, 335, 912, 414, 204, -122, 354, -785, 9, -194, 491, -596, 698, -753, -187, -242, -723, 904, 970, 78, -379, -626, -998, -186, -901, 563, -804, -933, 20, 236, 778, -957, 955, -79, -737, -307, 110, -173, -440, 801, 624, 100, 376, -103, 875, -167, -860, -21, 413, -301, -222, 93, -30, -985, 351, -281, 852, -748, 283, -209, -262, 47, 524, -202, 864, 70, 974, -224, -750, -992, -252, -350, 838, 234, 250, 652, -365, -782, 689, -4, 986, -71, 184, 822, 857, 400, -497, 109, 121, -871, -320, 701, 691, -97, -589, 555, -567, -694, -251, -571, -171, -218, 243, 894, 458, 150, -115, -135, 925, -645, -839, 190, -622, -299, -428, -425, -578, 772, 367, 886, -749, 30, 130, -897, 405, 594, 464, 777, -988, -470, 164, -465, -125, 646, 398, -684, -629, 832, 704, -614, -371, 734, 976, 107, -565, 232, 64, 545, 584, 249, -849, -942, 282, -937, 920, -109, 480, -272, 210, -572, 207, 541, -461, 120, -947, -58, 724, 375, -731, 227, 402, 720, -721, -475, 662, 356, 173, 488, 403, 361, -747, 348, 638, -592, -18, -435, 181, 525, -448, 603, -983, -612, 60, 88, 670, 627, -182, -691, -809, -282, 202, 143, -447, -801, 751, -672, -151, 748, -119, 808, 4, -664, -888, 170, 490, 179, -10, -148, -249, -200, -84, 138, 946, 425, 216, 410, -327, 418, 814, 595, -708, 825, -733, 252, 824, 552, 288, -881, -687, -52, -547, 420, -139, 582, -817, -467, 489, 547, -896, 938, 757, -661, -349, 892, 357, 605, 860, 680, 957, -56, 3, -493, -176, -504, -816, -885, 917, 930, 609, -460, -728, 166, 424, 508, 744, 24, -436, 782, 834, -609, -170, -595, -99, -930, -154, -700, -651, 651, -815, 802, 340, 731, -861, 959, -864, -131, -331, -898, -585, -68, 521, -9, 953, 358, 780, -874, 887, -113, 153, 809, -863, 921, -208, 960, 126, 522, -828, -117, 659, 790, -893, -967, -289, -41, 962, 272, -605, -191, -638, 6, 131, -490, -62, -91, -285, -64, 785, 859, -294, -32, -335, -542, 42, -647, 304, -743, -902, -905, -756, -210, -487, -641, 485, -290, -1, -703, 363, 33, -964, 276, 96, -39, 839, 793, -771, -878, -235, 178, -880, -919, -758, 428, -402, -431, 658, 815, 565, 507, -669, -768, -680, 703, -128, -663, -77, 17, 160, 913, 317, 94, 473, 326, 585, -153, -246, -59, 741, -800, -925, 174, 591, 404, 483, -368, -561, 177, -979, 903, 41, -102, 5, 634, -706, -824, 509, 146, -364, -718, 503, -358, -633, 972, -628, 199, -337, -417, -859, -835, -214, -840, -114, 319, 623, -685, 266, 290, -702, -421, -991, -483, 600, -283, 932, -237, 307, -204, 702, -450, -132, -406, 26, 256, 487, -329, -275, 991, 882, -777, 151, -858, 635, 994, -232, 25, 50, -963, 344, -163, 108, -437, 122, -564, 713, 87, 54, 460, -356, 611, -468, -47, -892, 502, 268, -85, 240, -6, 828, -288, 128, 511, 71, 468, 447, 891, -485, 312, -80, 455, 727, 943, 270, -634, -852, 387, -707, -637, 577, -61, -392, 82, -60, 362, -373, 581, 506, 372, -458, 984, 786, 501, -843, -790, -94, 551, 654, 169, -562, -704, 608, -697, 893, -330, 729, 278, -853, 76, -87, 742, 896, -784, -868, -832, 758, -315, -81, 749, 593, 644, 880, 229, 484, 632, 75, -53, -724, 599, -199, 296, -590, -98, 474, -180, 858, 736, 807, -348, 289, -149, 62, 669, 831, -696, 338, 589, -738, -463, 10, -195, -668, 672, 201, -936, 441, -295, -767, 302, 523, 115, -361, -862, -225, -643, -477, 416, -174, 495, 399, 61, 368, -846, -339, -877, -121, 182, 968, 871, 292, -727, -386, 901, -3, -984, -318, -503, 656, -662, -255, -732, -403, 557, 992, -181, 65, -911, 612, 86, -418, -583, -45, -761, 443, -775, -797, 683, 607, 159, 235, -380, 225, 792, 185, -837, 639, -408, 220, -226, -549, 230, -601, -419, 692, 516, 233, -409, 979, 969, 909, 533, -586, 995, 797, -359, 645, 36, 392, -557, -141, -172, -838, -679, 866, -482, -959, 454, -734, -915, 395, -8, 711, 461, -55, 726, 696, 435, 562, -544, -554, -715, 570, 874, 622, 722, 789, -413, 763, 419, 883, -833, 42, -243, -950, -867, -927, -584, -591, 564, 90, 971, -788, 845, 342, -49, 823, 327, -545, -537, 51, 158, 862, 980, -270, -215, -811, 676, 385, -943, -147, 300, 180, -884, 989, 643, -280, 43, -866, -166, -63, 601, 241, -286, 610, -2, -689, -410, -978, -607, 879, 187, 2, -792, 394, 18, -498, 865, 637, 660, 298, -466, -624, 571, 975, -719, -93, 35, -238, 664, -499, 514, 796, 462, -754, -457, 91, 759, 781, -505, -258, 421, -616, -667, -955, -845, -810, -712, -563, 310, 381, 856, -211, 295, 114, -476, 884, -534, 492, -184, -711, 334, 534, -940, 568, -973, -770, 271, -553, 154, -111, -344, 978, 940, 482, 916, -701, -799, -427, 819, -515, -313, 889, 411, 448, -67, -123, -239, 820, -823, 621, 436, 422, 898, -190, 833, 471, 657, -994, -169, -778, -496, 510, -774, -366, 958, -453, -655, 518, -577, 103, -976, 929, 343, 52, 156, -34, -918, -606, 430, 618, 176, 684, 745, -779, 77, -865, -306, 640, 297, 902, -999, 574, 997, 949, -539, -472, -908, -856, 752, -183, -43, -206, -416, 604, 700, -369, -157, 803, -597, 829, -298, 111, -95, 821, -576, -106, -759, -105, -791, -370, 996, -303, -144, -297, -795, 687, 535, -746, 636, 333, -829, 648, -300, 390, -38, 384, -446, 31, 433, 306, 715, -357, -292, 914, 549, -162, -531, 286, -260, -473, 804, 124, 450, 755, -900, -517, 360, 95, 397, -378, -72, 1, -228, 32, -217, -219, -317, -952, 512, 69, 366, 919, -33, 451, 446, -159, 315, -291, 129, -203, 878, -705, -692, 910, -241, 262, 406, 224, -308, 843, -987, -143, 147, -981, 149, 673, 142, -384, -551, -827, 740, 753, -177, 162, 805, -928, 556, 732, 667, -478, 273, 602, 349, 505, 350, 540, 477, 773, 221, 429, 55, 27, 630, -808, 470, 532, -44, 379, 999, -312, 56, -636, -848, -766, 155, -230, 907, 101, 145, -74, -617, -996, -269, -388, 257, 566, 215, -956, 985, 760, 148, -48, 467, -83, -383, -570, 293, 417, -352, 876, 735, 783, -193, 583, 231, -769, 140, -250, 431, 580, 596, -456, -51, 493, 674, 590, 750, -420, -116, -603, 139, -618, 707, 965, 855, -179, 183, -522, -518, -451, 655, -15, 378, -296, -826, 844, 768, 245, -855, -16, 619, 853, -752, 423, -234, -789, 613, 291, 737, 531, -783, -682, 990, -876, -189, 934, 504, -895, -76, 218, 44, -931, -598, 228, 718, 193, 476, -112, 21, -729, -909, -19, 945, 251, -533, 678, 739, 13, -836, 899, -650, -512, 371, 788, -340, 977, 377, 728, 597, 897, -442, 513, 53, 195, -394, 767, -632, -391, 800, 469, 725, 28, -201, 868, 817, -462, 311, -54, -807, -469, -257, -338, 314, 457, -772, -23, 66, 931, 396, -138, -322, 947, 709, -929, -29, -120, -216, -997, 681, 679, 301, -613, 536, 303, 818, -146, 642, -903, -405, 409, 747, 936, -407, 171, -491, -740, -196, 633, 671, 321, 628, 465, 723, 924, 192, -178, -912, -508, 900, 48, -438, -822, 374, 318, 927, -834, -842, 73, -548, 625, -175, -574, -27, 359, -760, -688, -683, -536, -532, -519, 189, 23, -107, 167, 263, -96, 137, 337, 389, -890, 816, -639, 877, -755, -665, -287, -145, 67, 579, -220, -415, -82, -430, 22, 694, 873, -259, -481, 539, -872, 911, 499, -552, -714, 320, -932, 152, -57, -917, 813, 517, -89, 665, -913, 641, -813, 653, -198, -587, 666, 198, -140, -841, 248, 553, 42, 112, -323, 479, -735, -787, 811, 717, -441, -935, 486, -333, -396, -970, -507, 710, -185, 445, -764, 695, -830, -529, 42, 280, 923, 415, 59, 588, -611, 810, 237, -101, 586, 730, 97, 42, -762, 620, -422, 299, -949, -873, -974, 863, -28, 942, -966, -914, -494, 998, -814, 316, -314, -377, 764, -452, 246, -293, -66, 98, 104, -786, -397, 165, -136, -104, 206, 719]\n",
    "# Tu rozwiązuj\n",
    "liczby_ujemne = set()\n",
    "liczby_dodatnie = set()\n",
    "for liczba in input:\n",
    "    if liczba >= 0:\n",
    "        liczby_dodatnie.add(liczba)\n",
    "    else:\n",
    "        liczby_ujemne.add(-liczba)\n",
    "\n",
    "print (liczby_dodatnie.symmetric_difference(liczby_ujemne).pop())\n",
    "        "
   ]
  },
  {
   "cell_type": "markdown",
   "metadata": {},
   "source": [
    "### Ćwiczenie\n",
    "Chcemy zoptymalizować działanie bankomatu w taki sposób, aby wypłacał żądaną kwotę w najmniejszej możliwej liczbie banknotów.\n",
    "\n",
    "W bankomacie są banktoty o nominałach:\n",
    "nominals = [10, 20, 50, 100, 200, 500]\n",
    "\n",
    "Dla podanej kwoty zwróć jaką minimalną ilością banknotów można wypłatę zrealizować. \n",
    "\n",
    "Jeśli wypłata nie jest możliwa, zwróć -1.\n",
    "```\n",
    "Przykłady:\n",
    "kwota = 1000 => 2 (2 x 500)\n",
    "kwota = 1300 => 4 (2 x 500, 200, 100)\n",
    "kwota = 127 => -1 (nie da się wypłacić takiej kwoty)\n",
    "```"
   ]
  },
  {
   "cell_type": "code",
   "execution_count": 17,
   "metadata": {},
   "outputs": [
    {
     "name": "stdout",
     "output_type": "stream",
     "text": [
      "500 ->1\n",
      "200 ->0\n",
      "100 ->0\n",
      "50 ->1\n",
      "20 ->1\n",
      "10 ->1\n",
      "4\n",
      "Kwota = 2\n"
     ]
    }
   ],
   "source": [
    "# Tu rozwiązuj\n",
    "kwota = 582\n",
    "nominals = [500,200,100,50,20,10]\n",
    "nominals_count = []\n",
    "for i, nominal in enumerate(nominals):\n",
    "    nominals_count.append(0);\n",
    "    while kwota >= nominal :\n",
    "        nominals_count[i] +=1\n",
    "        kwota -= nominal\n",
    "    print (f\"{nominal} ->{nominals_count[i]}\") \n",
    "\n",
    "print (sum(nominals_count))\n",
    "print(f'Kwota = {kwota}')           \n",
    "           "
   ]
  },
  {
   "cell_type": "code",
   "execution_count": null,
   "metadata": {},
   "outputs": [],
   "source": []
  }
 ],
 "metadata": {
  "kernelspec": {
   "display_name": "Python 3",
   "language": "python",
   "name": "python3"
  },
  "language_info": {
   "codemirror_mode": {
    "name": "ipython",
    "version": 3
   },
   "file_extension": ".py",
   "mimetype": "text/x-python",
   "name": "python",
   "nbconvert_exporter": "python",
   "pygments_lexer": "ipython3",
   "version": "3.9.0"
  }
 },
 "nbformat": 4,
 "nbformat_minor": 4
}
