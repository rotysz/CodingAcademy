{
 "cells": [
  {
   "cell_type": "markdown",
   "metadata": {},
   "source": [
    "# CodING Academy: Python\n",
    "## Warsztat 4"
   ]
  },
  {
   "cell_type": "markdown",
   "metadata": {},
   "source": [
    "# Serializacja i pliki"
   ]
  },
  {
   "cell_type": "markdown",
   "metadata": {},
   "source": [
    "### Scieżki\n",
    "* `from pathlib import Path` - moduł dedykowny do pracy z ścieżkami i plikami, **preferowany** <br>(https://docs.python.org/3.8/library/pathlib.html?highlight=pathlib#module-pathlib)\n",
    "* `import os` - moduł dedykowany do pracy z systemem operacyjnym <br>(https://docs.python.org/3.8/library/os.html)\n",
    "<br>"
   ]
  },
  {
   "cell_type": "code",
   "execution_count": 1,
   "metadata": {},
   "outputs": [
    {
     "data": {
      "text/plain": [
       "PosixPath('/Volumes/iMacHDD/Users/roty/PycharmProjects/pythonProject/venv/bin')"
      ]
     },
     "execution_count": 1,
     "metadata": {},
     "output_type": "execute_result"
    }
   ],
   "source": [
    "from pathlib import Path\n",
    "Path.cwd()"
   ]
  },
  {
   "cell_type": "code",
   "execution_count": 180,
   "metadata": {},
   "outputs": [
    {
     "name": "stdout",
     "output_type": "stream",
     "text": [
      "Activate.ps1\r\n",
      "Arek_Piasecki_Have_Fun_With_CodING_#2_ArekPi.ipynb\r\n",
      "Bartek_Smolin_Have_Fun_With_CodING_2 - rozwiązane - B.Smolin.ipynb\r\n",
      "CodING_Academy_Python_Warsztat_1.ipynb\r\n",
      "CodING_Academy_Python_Warsztat_2.ipynb\r\n",
      "CodING_Academy_Python_Warsztat_4.ipynb\r\n",
      "Darek_Kosinski_Have_Fun_With_CodING_#2_DK.ipynb\r\n",
      "Have Fun with Coding Romek Wyrobek.ipynb\r\n",
      "Have_Fun_With_CodING_#2.ipynb\r\n",
      "Have_Fun_With_CodING_#3.ipynb\r\n",
      "Have_Fun_With_CodING_1 - Bartek Smolin.ipynb\r\n",
      "Have_Fun_With_CodING_1 Malgorzata Piotrowska.ipynb\r\n",
      "Have_Fun_With_CodING_1 Malgorzata Piotrowska2.ipynb\r\n",
      "Have_Fun_With_CodING_1 Mariusz Biniasz.ipynb\r\n",
      "Have_Fun_With_CodING_1 Studzinski.ipynb\r\n",
      "Have_Fun_With_CodING_1-DK.ipynb\r\n",
      "Have_Fun_With_CodING_1_ArekPi.ipynb\r\n",
      "Have_Fun_With_CodING_1_ArekPi_v3.ipynb\r\n",
      "Have_Fun_With_CodING_1_Magda.ipynb\r\n",
      "Have_Fun_With_CodING_1_ToRo.ipynb\r\n",
      "Have_Fun_With_CodING_1_odp_marek_jacek.ipynb\r\n",
      "Magda_Sciegosz_Have_Fun_With_CodING_#2.ipynb\r\n",
      "Malgorzata_Piotrowska_Have_Fun_With_CodING_#2_.ipynb\r\n",
      "Marek_Jacek_Have_Fun_With_CodING_2.ipynb\r\n",
      "Tomek_Romuszynski_Have_Fun_With_CodING_#2_ToRo.ipynb\r\n",
      "Untitled.ipynb\r\n",
      "WorkShop1 - solved.ipynb\r\n",
      "Workshop2 solved.ipynb\r\n",
      "activate\r\n",
      "activate.csh\r\n",
      "activate.fish\r\n",
      "\u001b[31mchardetect\u001b[m\u001b[m\r\n",
      "database.sqlite3\r\n",
      "\u001b[31measy_install\u001b[m\u001b[m\r\n",
      "\u001b[31measy_install-3.9\u001b[m\u001b[m\r\n",
      "\u001b[31miptest\u001b[m\u001b[m\r\n",
      "\u001b[31miptest3\u001b[m\u001b[m\r\n",
      "\u001b[31mipython\u001b[m\u001b[m\r\n",
      "\u001b[31mipython3\u001b[m\u001b[m\r\n",
      "\u001b[31mjsonschema\u001b[m\u001b[m\r\n",
      "\u001b[31mjupyter\u001b[m\u001b[m\r\n",
      "\u001b[31mjupyter-bundlerextension\u001b[m\u001b[m\r\n",
      "\u001b[31mjupyter-console\u001b[m\u001b[m\r\n",
      "\u001b[31mjupyter-kernel\u001b[m\u001b[m\r\n",
      "\u001b[31mjupyter-kernelspec\u001b[m\u001b[m\r\n",
      "\u001b[31mjupyter-migrate\u001b[m\u001b[m\r\n",
      "\u001b[31mjupyter-nbconvert\u001b[m\u001b[m\r\n",
      "\u001b[31mjupyter-nbextension\u001b[m\u001b[m\r\n",
      "\u001b[31mjupyter-notebook\u001b[m\u001b[m\r\n",
      "\u001b[31mjupyter-qtconsole\u001b[m\u001b[m\r\n",
      "\u001b[31mjupyter-run\u001b[m\u001b[m\r\n",
      "\u001b[31mjupyter-serverextension\u001b[m\u001b[m\r\n",
      "\u001b[31mjupyter-troubleshoot\u001b[m\u001b[m\r\n",
      "\u001b[31mjupyter-trust\u001b[m\u001b[m\r\n",
      "\u001b[31mpip\u001b[m\u001b[m\r\n",
      "\u001b[31mpip3\u001b[m\u001b[m\r\n",
      "\u001b[31mpip3.9\u001b[m\u001b[m\r\n",
      "\u001b[34mpliki_tekstowe\u001b[m\u001b[m\r\n",
      "\u001b[31mpygmentize\u001b[m\u001b[m\r\n",
      "\u001b[35mpython\u001b[m\u001b[m\r\n",
      "\u001b[35mpython3\u001b[m\u001b[m\r\n",
      "\u001b[35mpython3.9\u001b[m\u001b[m\r\n",
      "python_users.csv\r\n",
      "python_users_new.csv\r\n",
      "test.csv\r\n"
     ]
    }
   ],
   "source": [
    "import os\n",
    "os.getcwd()\n",
    "\n",
    "!ls\n"
   ]
  },
  {
   "cell_type": "markdown",
   "metadata": {},
   "source": [
    "**Odwołanie względne i bezwzględne:**\n",
    "* `'C:/Users/xyz/Desktop/python_od_podstaw_ING/Warsztat 4'` - bezwzględne\n",
    "* `../Warsztat 3` - względne\n",
    "\n",
    "`'.'` - aktualna lokalizacja, `'..'` - przejście o katalog wyżej"
   ]
  },
  {
   "cell_type": "code",
   "execution_count": null,
   "metadata": {
    "scrolled": true
   },
   "outputs": [],
   "source": [
    "Path('../').iterdir()"
   ]
  },
  {
   "cell_type": "code",
   "execution_count": null,
   "metadata": {},
   "outputs": [],
   "source": [
    "# podmienić zgodnie ze swoją strukturą :) \n",
    "for element in Path(r'../python-masterclass-master').iterdir():\n",
    "    print(element)"
   ]
  },
  {
   "cell_type": "code",
   "execution_count": null,
   "metadata": {},
   "outputs": [],
   "source": [
    "# tworzenie nowego folderu\n",
    "Path('./new_folder').mkdir()"
   ]
  },
  {
   "cell_type": "markdown",
   "metadata": {},
   "source": [
    "## Pliki\n",
    "\n",
    "`open(file_path, mode, encoding, ...)` <br>\n",
    "(https://docs.python.org/3/library/functions.html#open)\n",
    "\n",
    "**Mode:** najlepiej kojarzyć od razu z j. angielskim :)\n",
    "* `'r'` - open for **reading** (default)\n",
    "* `'w'` - open for **writing**, truncating the file first\n",
    "* `'x'` - open for **exclusive** creation, failing if the file already exists\n",
    "* `'a'` - open for writing, **appending** to the end of the file if it exists\n",
    "* `'b'` - **binary** mode\n",
    "* `'t'` - **text** mode (default)\n",
    "* `'+'` - open for updating (reading and writing)\n",
    "\n",
    "**encofing:** utf-8 <br>\n",
    "(https://docs.python.org/3/library/codecs.html#standard-encodings)\n",
    "<br> \n",
    "\n",
    "**najczęściej wykorzystywane funkcje:**\n",
    "`read()`, `readlines()`, `write()`"
   ]
  },
  {
   "cell_type": "code",
   "execution_count": null,
   "metadata": {},
   "outputs": [],
   "source": [
    "file_path = 'python_test2.txt'\n",
    "with open(file_path, mode = 'wt', encoding = 'utf-8') as file:\n",
    "#     file_read = file.readline()\n",
    "#     file_read = file.read()[:100]\n",
    "#     file_read = file.readlines()[:3]\n",
    "    file.write('test')\n",
    "\n",
    "print(file_read)\n"
   ]
  },
  {
   "cell_type": "markdown",
   "metadata": {},
   "source": [
    "**Zadanie:**\n",
    "1. Utwórz folder o nazwie 'pliki_tekstowe' i zapisz w nim plik o nazwie 'my_python.txt' z tekstem (txt = 'I love learning Python')\n",
    "1. Dodaj do wcześniej stworzonego pliku dowolny tekst"
   ]
  },
  {
   "cell_type": "code",
   "execution_count": 111,
   "metadata": {},
   "outputs": [
    {
     "name": "stdout",
     "output_type": "stream",
     "text": [
      "Folder exist\n"
     ]
    }
   ],
   "source": [
    "# Zadanie\n",
    "DIR_NAME = 'pliki_tekstowe'\n",
    "FILE_PATH = DIR_NAME + '/my_python.txt'\n",
    "\n",
    "folder = Path(DIR_NAME)\n",
    "if folder.exists():\n",
    "    print ('Folder exist')\n",
    "else: \n",
    "    print ('Folder not exist')\n",
    "    folder.mkdir()\n",
    "\n",
    "f_path = Path(FILE_PATH)\n",
    "if f_path.exists():\n",
    "    with open(FILE_PATH, mode = 'at') as file:\n",
    "        file.write('Added something\\n'); \n",
    "else:    \n",
    "    with open(FILE_PATH, mode = 'wt') as file:\n",
    "        file.write('I love learning Python\\n');\n"
   ]
  },
  {
   "cell_type": "markdown",
   "metadata": {},
   "source": [
    "## CSV\n",
    "ang. comma-separated values, wartości rozdzielone przecinkiem – format przechowywania danych w plikach tekstowych\n",
    "* `import csv` - biblioteka dedykowana do pracy z plikami csv\n",
    "(https://docs.python.org/3/library/csv.html)\n",
    "\n",
    "**Czytanie pliku csv:**\n",
    "* `csv.reader(path_csvfile, **params)` \n",
    "* `csv.DictReader(path_csvfile, **params)`\n",
    "\n",
    "**Zapisywanie pliku csv:**\n",
    "* `csv.writer(path_csvfile, **params)`\n",
    "* `csv.DictWriter(path_csvfile, **params)`\n",
    "\n",
    "**Przydatne parametry:**\n",
    "* delimiter - znak odpowiadający za rozdzielenie tekstu w linii, najczęściej `','` `';'` `'\\t'` `'|'`\n",
    "* quotechar - znaki poprzedzające i kończące ciąg tekstu oddzielonego separatorami, najczęściej `'\"'` `\"'\"`\n",
    "* lineterminator - znak końca linii, najczęściej `'\\n'`\n",
    "* quoting - dodatkowe opcje dotyczące cytowania (do wykorzystania z funkcją writer) `csv.QUOTE_ALL` `csv.QUOTE_MINIMAL` `csv.QUOTE_NONNUMERIC`\n",
    "* fieldnames - nazwy pól/ kolumn\n",
    "* dialect - excel, excel-tab, unix (https://www.opentechguides.com/how-to/article/python/182/csv-dialects.html)"
   ]
  },
  {
   "cell_type": "code",
   "execution_count": 112,
   "metadata": {},
   "outputs": [],
   "source": [
    "import csv"
   ]
  },
  {
   "cell_type": "code",
   "execution_count": 113,
   "metadata": {},
   "outputs": [
    {
     "name": "stdout",
     "output_type": "stream",
     "text": [
      "['excel', 'excel-tab', 'unix']\n",
      "________________ excel\n",
      "delimiter:  ','\n",
      "doublequote:  True\n",
      "escapechar:  None\n",
      "lineterminator:  '\\r\\n'\n",
      "quotechar:  \"\n",
      "quoting:  0\n",
      "skipinitialspace:  False\n",
      "strict:  False\n",
      "________________ excel-tab\n",
      "delimiter:  '\\t'\n",
      "doublequote:  True\n",
      "escapechar:  None\n",
      "lineterminator:  '\\r\\n'\n",
      "quotechar:  \"\n",
      "quoting:  0\n",
      "skipinitialspace:  False\n",
      "strict:  False\n",
      "________________ unix\n",
      "delimiter:  ','\n",
      "doublequote:  True\n",
      "escapechar:  None\n",
      "lineterminator:  '\\n'\n",
      "quotechar:  \"\n",
      "quoting:  1\n",
      "skipinitialspace:  False\n",
      "strict:  False\n"
     ]
    }
   ],
   "source": [
    "\n",
    "print(csv.list_dialects())\n",
    "dialects_list = csv.list_dialects()\n",
    "\n",
    "for dialect in dialects_list:\n",
    "    d=csv.get_dialect(dialect)\n",
    "    print('________________', dialect)\n",
    "    print(\"delimiter: \", repr(d.delimiter))\n",
    "    print(\"doublequote: \", d.doublequote)\n",
    "    print(\"escapechar: \", d.escapechar)\n",
    "    print(\"lineterminator: \", repr(d.lineterminator))\n",
    "    print(\"quotechar: \", d.quotechar)\n",
    "    print(\"quoting: \", d.quoting)\n",
    "    print(\"skipinitialspace: \", d.skipinitialspace)\n",
    "    print(\"strict: \", d.strict)\n",
    "    "
   ]
  },
  {
   "cell_type": "code",
   "execution_count": 115,
   "metadata": {},
   "outputs": [
    {
     "name": "stdout",
     "output_type": "stream",
     "text": [
      "/bin/bash: line 0: type: test.csv: not found\r\n"
     ]
    }
   ],
   "source": [
    "data = [\n",
    "    {'name':'Ola', 'surname':'Kowalska', 'ID':213134},\n",
    "    {'name':'Olaf', 'surname': 'Adamowski', 'ID':131313},\n",
    "    {'name':'Mea', 'surname': \"As;awdw\", 'ID':131313}\n",
    "]\n",
    "\n",
    "with open('test.csv', mode = 'w', encoding = 'utf-8') as file:\n",
    "    csv_file = csv.DictWriter(file, delimiter = ';', quotechar = \"|\",quoting= csv.QUOTE_MINIMAL,\n",
    "                              fieldnames=data[0].keys())\n",
    "    csv_file.writeheader() #dodaje nagłówek\n",
    "    csv_file.writerows(data)\n",
    "    \n",
    "# !dir\n",
    "!type test.csv\n",
    "\n",
    "# zmodyfikuj powyższy kod zmieniając parametry delimiter, lineterminator, QUOTE_ALL, QUOTE_MINIMAL..."
   ]
  },
  {
   "cell_type": "code",
   "execution_count": 119,
   "metadata": {},
   "outputs": [
    {
     "name": "stdout",
     "output_type": "stream",
     "text": [
      "{'name': 'Ola', 'surname': 'Kowalska', 'ID': '213134'}\n",
      "{'name': 'Olaf', 'surname': 'Adamowski', 'ID': '131313'}\n",
      "{'name': 'Mea', 'surname': 'As;awdw', 'ID': '131313'}\n"
     ]
    }
   ],
   "source": [
    "with open('test.csv', mode = 'r', encoding = 'utf-8') as file:\n",
    "#     csv_file = csv.reader(file,                          \n",
    "#                               quotechar = \"'\",\n",
    "#                               quoting= csv.QUOTE_MINIMAL)  \n",
    "\n",
    "    csv_file = csv.DictReader(file, delimiter = ';', quotechar = \"|\"\n",
    "                             )  \n",
    "    \n",
    "    for line in csv_file:\n",
    "        print(line)\n",
    "\n",
    "# print(csv_file)"
   ]
  },
  {
   "cell_type": "markdown",
   "metadata": {},
   "source": [
    "**Zadanie:**\n",
    "1. Odczytaj zawartość pliku 'python_users.csv' korzystając z metody DictReader\n",
    "1. Zapisz dane do nowego pliku 'python_users_new.csv' z parametrami stadnardowymi dla dialektu 'unix'"
   ]
  },
  {
   "cell_type": "code",
   "execution_count": 130,
   "metadata": {},
   "outputs": [],
   "source": [
    "# Zadanie\n",
    "with open('python_users.csv', mode = 'r',  encoding = 'utf-8') as file:\n",
    "    csv_file_in = csv.DictReader(file, delimiter = '*',quotechar = '&',skipinitialspace = True)\n",
    "#    for line in csv_file_in:\n",
    "#        print(line)\n",
    "        \n",
    "    with open('python_users_new.csv', mode = 'wt',  encoding = 'utf-8') as file:\n",
    "        csv_file_out = csv.DictWriter(file, dialect=\"unix\",\n",
    "                                      fieldnames=csv_file_in.fieldnames) \n",
    "        csv_file_out.writeheader()\n",
    "        csv_file_out.writerows(csv_file_in)\n",
    "        "
   ]
  },
  {
   "cell_type": "markdown",
   "metadata": {},
   "source": [
    "# `datetime` - reprezentacja daty i czasu w Pythonie\n",
    "\n",
    "### Dokumentacja bilioteki `datetime`\n",
    "https://docs.python.org/3/library/datetime.html"
   ]
  },
  {
   "cell_type": "code",
   "execution_count": 134,
   "metadata": {},
   "outputs": [],
   "source": [
    "import datetime\n",
    "import time"
   ]
  },
  {
   "cell_type": "markdown",
   "metadata": {},
   "source": [
    "### Relacje pomiędzy klasami w biliotece `datetime`\n",
    "\n",
    "    object\n",
    "        timedelta\n",
    "        tzinfo\n",
    "            timezone\n",
    "        time\n",
    "        date\n",
    "            datetime"
   ]
  },
  {
   "cell_type": "markdown",
   "metadata": {},
   "source": [
    "## `timedelta` - klasa reprezentująca różnicę czasu"
   ]
  },
  {
   "cell_type": "code",
   "execution_count": 135,
   "metadata": {},
   "outputs": [
    {
     "data": {
      "text/plain": [
       "datetime.timedelta(days=7)"
      ]
     },
     "execution_count": 135,
     "metadata": {},
     "output_type": "execute_result"
    }
   ],
   "source": [
    "week = datetime.timedelta(weeks=1)\n",
    "week"
   ]
  },
  {
   "cell_type": "code",
   "execution_count": 136,
   "metadata": {},
   "outputs": [
    {
     "data": {
      "text/plain": [
       "datetime.timedelta(days=365)"
      ]
     },
     "execution_count": 136,
     "metadata": {},
     "output_type": "execute_result"
    }
   ],
   "source": [
    "year = datetime.timedelta(days=365)\n",
    "year"
   ]
  },
  {
   "cell_type": "markdown",
   "metadata": {},
   "source": [
    "Przykład użycia - ile tygodni ma rok?"
   ]
  },
  {
   "cell_type": "code",
   "execution_count": 137,
   "metadata": {},
   "outputs": [
    {
     "data": {
      "text/plain": [
       "(52, datetime.timedelta(days=1))"
      ]
     },
     "execution_count": 137,
     "metadata": {},
     "output_type": "execute_result"
    }
   ],
   "source": [
    "divmod(year, week)"
   ]
  },
  {
   "cell_type": "markdown",
   "metadata": {},
   "source": [
    "## `date` - klasa reprezentująca datę\n",
    "\n",
    "### Utworzenie daty"
   ]
  },
  {
   "cell_type": "code",
   "execution_count": null,
   "metadata": {},
   "outputs": [],
   "source": [
    "today = datetime.date.today()\n",
    "today"
   ]
  },
  {
   "cell_type": "code",
   "execution_count": null,
   "metadata": {},
   "outputs": [],
   "source": [
    "my_date = datetime.date(2020, 10, 4)\n",
    "my_date"
   ]
  },
  {
   "cell_type": "code",
   "execution_count": null,
   "metadata": {},
   "outputs": [],
   "source": [
    "my_date = datetime.date.fromisoformat(\"2020-10-04\")\n",
    "my_date"
   ]
  },
  {
   "cell_type": "markdown",
   "metadata": {},
   "source": [
    "Timestamp, czyli ilość sekund od 1 stycznia 1970 roku"
   ]
  },
  {
   "cell_type": "code",
   "execution_count": null,
   "metadata": {},
   "outputs": [],
   "source": [
    "now = time.time()\n",
    "now"
   ]
  },
  {
   "cell_type": "code",
   "execution_count": null,
   "metadata": {},
   "outputs": [],
   "source": [
    "my_date = datetime.date.fromtimestamp(now)\n",
    "my_date"
   ]
  },
  {
   "cell_type": "markdown",
   "metadata": {},
   "source": [
    "### Atrybuty daty"
   ]
  },
  {
   "cell_type": "code",
   "execution_count": null,
   "metadata": {},
   "outputs": [],
   "source": [
    "my_date.year, my_date.month, my_date.day"
   ]
  },
  {
   "cell_type": "markdown",
   "metadata": {},
   "source": [
    "### Modyfikacja daty"
   ]
  },
  {
   "cell_type": "code",
   "execution_count": null,
   "metadata": {},
   "outputs": [],
   "source": [
    "my_date = my_date.replace(day=1)\n",
    "my_date"
   ]
  },
  {
   "cell_type": "markdown",
   "metadata": {},
   "source": [
    "## `datetime` - klasa reprezentująca datę i czas\n",
    "\n",
    "### Utworzenie daty i czasu"
   ]
  },
  {
   "cell_type": "code",
   "execution_count": 182,
   "metadata": {},
   "outputs": [
    {
     "data": {
      "text/plain": [
       "datetime.datetime(2021, 2, 24, 9, 43, 19, 746392)"
      ]
     },
     "execution_count": 182,
     "metadata": {},
     "output_type": "execute_result"
    }
   ],
   "source": [
    "now = datetime.datetime.now()\n",
    "now"
   ]
  },
  {
   "cell_type": "code",
   "execution_count": 183,
   "metadata": {},
   "outputs": [
    {
     "data": {
      "text/plain": [
       "datetime.datetime(2020, 10, 4, 12, 30)"
      ]
     },
     "execution_count": 183,
     "metadata": {},
     "output_type": "execute_result"
    }
   ],
   "source": [
    "my_datetime = datetime.datetime(2020, 10, 4, 12, 30)\n",
    "my_datetime"
   ]
  },
  {
   "cell_type": "code",
   "execution_count": 184,
   "metadata": {},
   "outputs": [
    {
     "data": {
      "text/plain": [
       "datetime.datetime(2020, 10, 4, 12, 30)"
      ]
     },
     "execution_count": 184,
     "metadata": {},
     "output_type": "execute_result"
    }
   ],
   "source": [
    "my_datetime = datetime.datetime.fromisoformat(\"2020-10-04T12:30\")\n",
    "my_datetime"
   ]
  },
  {
   "cell_type": "code",
   "execution_count": null,
   "metadata": {},
   "outputs": [],
   "source": [
    "my_datetime = datetime.datetime.fromtimestamp(time.time())\n",
    "my_datetime"
   ]
  },
  {
   "cell_type": "markdown",
   "metadata": {},
   "source": [
    "### Atrybuty daty i czasu"
   ]
  },
  {
   "cell_type": "code",
   "execution_count": 185,
   "metadata": {},
   "outputs": [
    {
     "data": {
      "text/plain": [
       "(2020, 10, 4, 12, 30, 0, 0)"
      ]
     },
     "execution_count": 185,
     "metadata": {},
     "output_type": "execute_result"
    }
   ],
   "source": [
    "my_datetime.year, my_datetime.month, my_datetime.day, my_datetime.hour, my_datetime.minute, my_datetime.second, my_datetime.microsecond"
   ]
  },
  {
   "cell_type": "markdown",
   "metadata": {},
   "source": [
    "### Modyfikacja daty i czasu"
   ]
  },
  {
   "cell_type": "code",
   "execution_count": 186,
   "metadata": {},
   "outputs": [
    {
     "data": {
      "text/plain": [
       "datetime.datetime(2020, 10, 4, 12, 30)"
      ]
     },
     "execution_count": 186,
     "metadata": {},
     "output_type": "execute_result"
    }
   ],
   "source": [
    "my_datetime = my_datetime.replace(hour=12, minute=30, second=0, microsecond=0)\n",
    "my_datetime"
   ]
  },
  {
   "cell_type": "markdown",
   "metadata": {},
   "source": [
    "## `time` - klasa reprezentująca czas\n",
    "\n",
    "### Utworzenie czasu"
   ]
  },
  {
   "cell_type": "code",
   "execution_count": null,
   "metadata": {},
   "outputs": [],
   "source": [
    "now = datetime.datetime.now().time()\n",
    "now"
   ]
  },
  {
   "cell_type": "code",
   "execution_count": null,
   "metadata": {},
   "outputs": [],
   "source": [
    "my_time = datetime.time(12, 30)\n",
    "my_time"
   ]
  },
  {
   "cell_type": "code",
   "execution_count": null,
   "metadata": {},
   "outputs": [],
   "source": [
    "my_time = datetime.time.fromisoformat(\"12:30\")\n",
    "my_time"
   ]
  },
  {
   "cell_type": "code",
   "execution_count": null,
   "metadata": {},
   "outputs": [],
   "source": [
    "my_time = datetime.datetime.fromtimestamp(time.time()).time()\n",
    "my_time"
   ]
  },
  {
   "cell_type": "markdown",
   "metadata": {},
   "source": [
    "### Atrybuty czasu"
   ]
  },
  {
   "cell_type": "code",
   "execution_count": null,
   "metadata": {},
   "outputs": [],
   "source": [
    "my_time.hour, my_time.minute, my_time.second, my_time.microsecond"
   ]
  },
  {
   "cell_type": "markdown",
   "metadata": {},
   "source": [
    "### Modyfikacja czasu"
   ]
  },
  {
   "cell_type": "code",
   "execution_count": null,
   "metadata": {},
   "outputs": [],
   "source": [
    "my_time = my_time.replace(second=0, microsecond=0)\n",
    "my_time"
   ]
  },
  {
   "cell_type": "markdown",
   "metadata": {},
   "source": [
    "## Łączenie `date` i `time` w `datetime`"
   ]
  },
  {
   "cell_type": "code",
   "execution_count": null,
   "metadata": {},
   "outputs": [],
   "source": [
    "my_date = datetime.date.today()\n",
    "my_time = datetime.time()\n",
    "my_datetime = datetime.datetime.combine(my_date, my_time)\n",
    "my_datetime"
   ]
  },
  {
   "cell_type": "markdown",
   "metadata": {},
   "source": [
    "## Wyciąganie `date` i `time` z `datetime`"
   ]
  },
  {
   "cell_type": "code",
   "execution_count": null,
   "metadata": {},
   "outputs": [],
   "source": [
    "now = datetime.datetime.now()\n",
    "my_date = now.date()\n",
    "my_time = now.time()\n",
    "my_date, my_time"
   ]
  },
  {
   "cell_type": "markdown",
   "metadata": {},
   "source": [
    "## Porównywanie dat"
   ]
  },
  {
   "cell_type": "code",
   "execution_count": null,
   "metadata": {},
   "outputs": [],
   "source": [
    "datetime.datetime.now() >= datetime.datetime(2020, 10, 5, 12, 30)"
   ]
  },
  {
   "cell_type": "markdown",
   "metadata": {},
   "source": [
    "## Formatowanie daty i czasu\n",
    "\n",
    "```python\n",
    "time.strftime(\"format\") -> str\n",
    "date.strftime(\"format\") -> str\n",
    "datetime.strftime(\"format\") -> str\n",
    "```\n",
    "\n",
    "https://docs.python.org/3/library/datetime.html#strftime-and-strptime-format-codes"
   ]
  },
  {
   "cell_type": "code",
   "execution_count": null,
   "metadata": {},
   "outputs": [],
   "source": [
    "now = datetime.datetime.now()"
   ]
  },
  {
   "cell_type": "code",
   "execution_count": null,
   "metadata": {},
   "outputs": [],
   "source": [
    "now.strftime(\"%A, %d %B %Y, %H:%M:%S\")"
   ]
  },
  {
   "cell_type": "code",
   "execution_count": null,
   "metadata": {},
   "outputs": [],
   "source": [
    "now.strftime(\"%d. day of %m. month in %Y. year\")"
   ]
  },
  {
   "cell_type": "markdown",
   "metadata": {},
   "source": [
    "## Parsowanie daty i czasu\n",
    "\n",
    "```python\n",
    "datetime.strptime(\"datetime_string\", \"format\")\n",
    "```"
   ]
  },
  {
   "cell_type": "code",
   "execution_count": null,
   "metadata": {},
   "outputs": [],
   "source": [
    "my_datetime = datetime.datetime.strptime(\"Monday, 05 October 2020, 20:53:26\", \"%A, %d %B %Y, %H:%M:%S\")\n",
    "my_datetime"
   ]
  },
  {
   "cell_type": "code",
   "execution_count": null,
   "metadata": {},
   "outputs": [],
   "source": [
    "my_datetime = datetime.datetime.strptime(\"05. day of 10. month in 2020. year\", \"%d. day of %m. month in %Y. year\")\n",
    "my_datetime"
   ]
  },
  {
   "cell_type": "code",
   "execution_count": null,
   "metadata": {},
   "outputs": [],
   "source": [
    "my_datetime = datetime.datetime.strptime(\"2020-10-05 & 12:30:00\", \"%Y-%m-%d * %H:%M:%S\")\n",
    "my_datetime"
   ]
  },
  {
   "cell_type": "markdown",
   "metadata": {},
   "source": [
    "## Zadanie 1\n",
    "Napisz funkcję, która sprawdzi czy osoba urodzona danego dnia jest pełnoletnia.\n",
    "```python\n",
    "is_adult(date) -> bool\n",
    "```"
   ]
  },
  {
   "cell_type": "code",
   "execution_count": 152,
   "metadata": {},
   "outputs": [],
   "source": [
    "def is_adult(date):\n",
    "    curr_date = datetime.date.today()\n",
    "    adult_date = date.replace(year=date.year+18)\n",
    "    return adult_date <= curr_date\n",
    "    pass"
   ]
  },
  {
   "cell_type": "code",
   "execution_count": 153,
   "metadata": {},
   "outputs": [
    {
     "name": "stdout",
     "output_type": "stream",
     "text": [
      "True\n",
      "True\n",
      "True\n",
      "True\n",
      "False\n",
      "False\n"
     ]
    }
   ],
   "source": [
    "print(is_adult(datetime.date(1980, 5, 10)))  # True\n",
    "print(is_adult(datetime.date(2000, 1, 1)))  # True\n",
    "print(is_adult(datetime.date(2002, 10, 5)))  # True\n",
    "print(is_adult(datetime.date(2002, 10, 31)))  # False\n",
    "print(is_adult(datetime.date.today()))  # False\n",
    "print(is_adult(datetime.date(2021, 1, 1)))  # False"
   ]
  },
  {
   "cell_type": "markdown",
   "metadata": {},
   "source": [
    "## Zadanie 2\n",
    "Napisz funkcję, która sparsuje poniższe daty:\n",
    "- 2020-10-05 & 11:30\n",
    "- 05.10.2020 11-30\n",
    "- 5 October 2020, 11.30\n",
    "- 5 day of Oct. 2020, 11:30 AM\n",
    "\n",
    "```python\n",
    "parse_date(\"string\") -> datetime\n",
    "```"
   ]
  },
  {
   "cell_type": "code",
   "execution_count": 178,
   "metadata": {},
   "outputs": [],
   "source": [
    "def parse_date(date_string):\n",
    "    date_formats = [\"%Y-%m-%d & %H:%M\",\"%d.%m.%Y %H-%M\",\"%d %B %Y, %H.%M\",\"%d day of %b. %Y, %I:%M %p\"]\n",
    "    parsed_datetime = None\n",
    "    for date_format in date_formats:\n",
    "        try:\n",
    "            parsed_datetime = datetime.datetime.strptime(date_string,date_format)\n",
    "        except ValueError:\n",
    "            continue\n",
    "        else:\n",
    "            break\n",
    "    \n",
    "    return parsed_datetime\n",
    "    pass"
   ]
  },
  {
   "cell_type": "code",
   "execution_count": 191,
   "metadata": {},
   "outputs": [
    {
     "name": "stdout",
     "output_type": "stream",
     "text": [
      "2020-10-05 11:30:00\n",
      "2020-10-05 11:30:00\n",
      "2020-10-05 11:30:00\n",
      "2020-10-05 11:30:00\n",
      "2020-10-05 23:30:00\n"
     ]
    }
   ],
   "source": [
    "print(parse_date(\"2020-10-05 & 11:30\"))  # 2020-10-05 11:30:00\n",
    "print(parse_date(\"05.10.2020 11-30\"))  # 2020-10-05 11:30:00\n",
    "print(parse_date(\"5 October 2020, 11.30\"))  # 2020-10-05 11:30:00\n",
    "print(parse_date(\"5 day of Oct. 2020, 11:30 AM\"))  # 2020-10-05 11:30:00\n",
    "print(parse_date(\"5 day of Oct. 2020, 11:30 PM\"))  # 2020-10-05 11:30:00"
   ]
  },
  {
   "cell_type": "markdown",
   "metadata": {},
   "source": [
    "# Bazy danych"
   ]
  },
  {
   "cell_type": "markdown",
   "metadata": {},
   "source": [
    "### Baza danych - do czego służy, co nam daje? Jakie ma zalety względem przechowywania danych w pliku?\n",
    "Podyskutujmy"
   ]
  },
  {
   "cell_type": "markdown",
   "metadata": {},
   "source": [
    "### Operowanie na danych w bazie (CRUD)\n",
    "Zapisywanie danych do bazy (CREATE)\n",
    "```\n",
    "insert into <table>(fields...) values (<values>)\n",
    "``` \n",
    "\n",
    "Wyciąganie danych z bazy (READ)\n",
    "```\n",
    "select <fields> from <table> where <condition> order by <field>\n",
    "select <fields> from <table> join <table2> on <relation> where <condition> order by <field>\n",
    "left join, right join <- nie będziemy się tym zajmować, ale pokażę grafikę\n",
    "``` \n",
    "\n",
    "Zmiana danych w bazie (UPDATE)\n",
    "```\n",
    "update <table> set <field> = <value> where <condition>\n",
    "``` \n",
    "\n",
    "Usuwanie danych (DETELE)\n",
    "```\n",
    "delete from <table> where <condition>\n",
    "```"
   ]
  },
  {
   "cell_type": "markdown",
   "metadata": {},
   "source": [
    "### Krótko o autoincrement\n",
    "Niektóre pola w bazie można oznaczyć jako 'Autoincrement'. Oznacza to, że gdy nie podamy wartości pola, to zostanie ono automatycznie nadane jako kolejne. Często stosuje się w przypadku 'id'."
   ]
  },
  {
   "cell_type": "markdown",
   "metadata": {},
   "source": [
    "### Connection\n",
    "Jest istancją obiektu symbolizująca połączenie do bazy."
   ]
  },
  {
   "cell_type": "code",
   "execution_count": 4,
   "metadata": {},
   "outputs": [],
   "source": [
    "import sqlite3\n",
    "connection = sqlite3.connect('database.sqlite3')\n",
    "cursor = connection.cursor()\n",
    "result = cursor.execute('select * from customers')\n",
    "connection.close()"
   ]
  },
  {
   "cell_type": "code",
   "execution_count": 5,
   "metadata": {},
   "outputs": [],
   "source": [
    "# wygodniej jest użyć compound statement (instrukcje złożone?)\n",
    "with sqlite3.connect('database.sqlite3') as connection:\n",
    "    connection.execute('')\n",
    "# bo połączenie zamyka się automatycznie i jeśli dane były modyfikowane, to zostaną zapisane"
   ]
  },
  {
   "cell_type": "code",
   "execution_count": 10,
   "metadata": {},
   "outputs": [
    {
     "name": "stdout",
     "output_type": "stream",
     "text": [
      "[('customers',), ('sqlite_sequence',), ('accounts',), ('sample_data',)]\n",
      "Wszystkie rekordy z bazy\n",
      "[(1, 'Bartosz', 'Głowacki', 'PL42222941176247135539240187', 20), (2, 'Eryk', 'Kamiński', 'PL81786645034401957047621964', 30), (3, 'Igor', 'Witkowski', 'PL61827884040081351674977449', 25), (4, 'Olga', 'Szulc', 'PL70724511734909169446820569', 50), (5, 'Igor', 'Nowak', 'PL84088258283620570843192707', 45), (6, 'Mikołaj', 'Wasilewski', 'PL20452518470134792225378787', 27), (7, 'Bogna', 'Stępień', 'PL11462380436218108192209769', 43), (8, 'Piotr', 'Błaszczyk', 'PL95767827625047808090917558', 26), (9, 'Małgorzata', 'Wróblewska', 'PL23904771660065411425795304', 65), (10, 'Bogumił', 'Kaczmarczyk', 'PL50456201958822830819035014', 70), (11, 'Heronim', 'Marciniak', 'PL90060634522008222843557969', 19), (12, 'Denis', 'Kowalski', 'PL09129845100611575983827969', 43), (13, 'Judyta', 'Kaczmarczyk', 'PL04933075786409877858276361', 23), (14, 'Bartłomiej', 'Nowak', 'PL41216396206003046331355076', 22), (15, 'Daniela', 'Pietrzak', 'PL76219217364176207985297587', 56)]\n",
      "\n",
      "Nazwy pól w bazie\n",
      "id\n",
      "first_name\n",
      "last_name\n",
      "account_number\n",
      "age\n"
     ]
    }
   ],
   "source": [
    "# wykonaym kilka zapytań i zwrócimy wyniki na ekran\n",
    "with sqlite3.connect('database.sqlite3') as connection:\n",
    "    cursor = connection.cursor()\n",
    "    results = cursor.execute(\"SELECT name FROM sqlite_master WHERE type='table';\").fetchall()\n",
    "    print(results)\n",
    "    results = cursor.execute('select * from sample_data').fetchall()\n",
    "    # zamiast fetchall można użyć innych sposobów pozyskiwania danych: fetchone() i fetchmany()\n",
    "    print(\"Wszystkie rekordy z bazy\")\n",
    "    print(results)\n",
    "    # zwróćmy uwagę na zwracany typ\n",
    "    print(\"\\nNazwy pól w bazie\")\n",
    "    for field_description in cursor.description:\n",
    "        print(field_description[0])"
   ]
  },
  {
   "cell_type": "code",
   "execution_count": 78,
   "metadata": {},
   "outputs": [
    {
     "name": "stdout",
     "output_type": "stream",
     "text": [
      "Rekordy z bazy po jednym\n",
      "(1, 'Anna', 'Głowacki', 'PL42222941176247135539240187', 20)\n",
      "(2, 'Anna', 'Kamiński', 'PL81786645034401957047621964', 30)\n",
      "(3, 'Anna', 'Witkowski', 'PL61827884040081351674977449', 25)\n",
      "(4, 'Olga', 'Szulc', 'PL70724511734909169446820569', 50)\n",
      "(5, 'Igor', 'Nowak', 'PL84088258283620570843192707', 45)\n",
      "(6, 'Anna', 'Wasilewski', 'PL20452518470134792225378787', 27)\n",
      "(8, 'Anna', 'Błaszczyk', 'PL95767827625047808090917558', 26)\n",
      "(9, 'Małgorzata', 'Wróblewska', 'PL23904771660065411425795304', 65)\n",
      "(11, 'Heronim', 'Marciniak', 'PL90060634522008222843557969', 19)\n",
      "(12, 'Denis', 'Kowalski', 'PL09129845100611575983827969', 43)\n",
      "(13, 'Anna', 'Kaczmarczyk', 'PL04933075786409877858276361', 23)\n",
      "(14, 'Anna', 'Nowak', 'PL41216396206003046331355076', 22)\n",
      "(15, 'Daniela', 'Pietrzak', 'PL76219217364176207985297587', 56)\n",
      "(16, 'Marcin', 'Nowacki', 'PL12345678901234567890123456', 99)\n"
     ]
    }
   ],
   "source": [
    "# fetchone\n",
    "with sqlite3.connect('database.sqlite3') as connection:\n",
    "    cursor = connection.cursor()\n",
    "    results = cursor.execute('select * from sample_data')\n",
    "    print(\"Rekordy z bazy po jednym\")\n",
    "    result = results.fetchone()\n",
    "    while result:\n",
    "        print(result)\n",
    "        result = results.fetchone()"
   ]
  },
  {
   "cell_type": "code",
   "execution_count": null,
   "metadata": {
    "scrolled": true
   },
   "outputs": [],
   "source": [
    "# fetchmany\n",
    "with sqlite3.connect('database.sqlite3') as connection:\n",
    "    cursor = connection.cursor()\n",
    "    results = cursor.execute('select * from sample_data')\n",
    "    print(\"Rekordy z bazy po kilka\")\n",
    "    result = results.fetchmany(2)\n",
    "    while result:\n",
    "        print(result)\n",
    "        result = results.fetchmany(2)"
   ]
  },
  {
   "cell_type": "code",
   "execution_count": 63,
   "metadata": {},
   "outputs": [
    {
     "name": "stdout",
     "output_type": "stream",
     "text": [
      "Rekordy po dostarczeniu fabryki\n",
      "Anna\n",
      "Głowacki\n",
      "{'id': 1, 'first_name': 'Anna', 'last_name': 'Głowacki', 'account_number': 'PL42222941176247135539240187', 'age': 20}\n",
      "Anna\n",
      "Kamiński\n",
      "{'id': 2, 'first_name': 'Anna', 'last_name': 'Kamiński', 'account_number': 'PL81786645034401957047621964', 'age': 30}\n",
      "Anna\n",
      "Witkowski\n",
      "{'id': 3, 'first_name': 'Anna', 'last_name': 'Witkowski', 'account_number': 'PL61827884040081351674977449', 'age': 25}\n",
      "Olga\n",
      "Szulc\n",
      "{'id': 4, 'first_name': 'Olga', 'last_name': 'Szulc', 'account_number': 'PL70724511734909169446820569', 'age': 50}\n",
      "Igor\n",
      "Nowak\n",
      "{'id': 5, 'first_name': 'Igor', 'last_name': 'Nowak', 'account_number': 'PL84088258283620570843192707', 'age': 45}\n",
      "Anna\n",
      "Wasilewski\n",
      "{'id': 6, 'first_name': 'Anna', 'last_name': 'Wasilewski', 'account_number': 'PL20452518470134792225378787', 'age': 27}\n",
      "Anna\n",
      "Błaszczyk\n",
      "{'id': 8, 'first_name': 'Anna', 'last_name': 'Błaszczyk', 'account_number': 'PL95767827625047808090917558', 'age': 26}\n",
      "Małgorzata\n",
      "Wróblewska\n",
      "{'id': 9, 'first_name': 'Małgorzata', 'last_name': 'Wróblewska', 'account_number': 'PL23904771660065411425795304', 'age': 65}\n",
      "Heronim\n",
      "Marciniak\n",
      "{'id': 11, 'first_name': 'Heronim', 'last_name': 'Marciniak', 'account_number': 'PL90060634522008222843557969', 'age': 19}\n",
      "Denis\n",
      "Kowalski\n",
      "{'id': 12, 'first_name': 'Denis', 'last_name': 'Kowalski', 'account_number': 'PL09129845100611575983827969', 'age': 43}\n",
      "Anna\n",
      "Kaczmarczyk\n",
      "{'id': 13, 'first_name': 'Anna', 'last_name': 'Kaczmarczyk', 'account_number': 'PL04933075786409877858276361', 'age': 23}\n",
      "Anna\n",
      "Nowak\n",
      "{'id': 14, 'first_name': 'Anna', 'last_name': 'Nowak', 'account_number': 'PL41216396206003046331355076', 'age': 22}\n",
      "Daniela\n",
      "Pietrzak\n",
      "{'id': 15, 'first_name': 'Daniela', 'last_name': 'Pietrzak', 'account_number': 'PL76219217364176207985297587', 'age': 56}\n",
      "Marcin\n",
      "Nowacki\n",
      "{'id': 16, 'first_name': 'Marcin', 'last_name': 'Nowacki', 'account_number': 'PL12345678901234567890123456', 'age': 99}\n"
     ]
    }
   ],
   "source": [
    "# Row\n",
    "with sqlite3.connect('database.sqlite3') as connection:\n",
    "    cursor = connection.cursor()\n",
    "    cursor.row_factory = sqlite3.Row\n",
    "    results = cursor.execute('select * from sample_data').fetchall()\n",
    "    print(\"Rekordy po dostarczeniu fabryki\")\n",
    "    for result in results:\n",
    "#        print(result)\n",
    "#         usuwać komentarze po jednym :-)\n",
    "#        print(result.keys())\n",
    "        print(result['first_name'])\n",
    "        print(result[2])\n",
    "        print(dict(result))"
   ]
  },
  {
   "cell_type": "markdown",
   "metadata": {},
   "source": [
    "## Zadanie\n",
    "Dopisz do tabeli **sample_data** osobę: \n",
    "imię: Marcin \n",
    "nazwisko: Nowacki \n",
    "numer konta: PL12345678901234567890123456\n",
    "wiek: 99"
   ]
  },
  {
   "cell_type": "code",
   "execution_count": 55,
   "metadata": {},
   "outputs": [
    {
     "name": "stdout",
     "output_type": "stream",
     "text": [
      "<sqlite3.Cursor object at 0x7fb35871d730>\n"
     ]
    }
   ],
   "source": [
    "with sqlite3.connect('database.sqlite3') as connection:\n",
    "    cursor = connection.cursor()\n",
    "    result = cursor.execute ('INSERT INTO sample_data(first_name, last_name, account_number, age) VALUES (?,?,?,?) ',\n",
    "                               ('Marcin','Nowacki','PL12345678901234567890123456',99))\n",
    "    print(result)"
   ]
  },
  {
   "cell_type": "markdown",
   "metadata": {},
   "source": [
    "## Zadanie\n",
    "W tabeli **sample_data** zamień na 'Anna' imiona wszystkich osób, których wiek jest pomiędzy <20 a 30>"
   ]
  },
  {
   "cell_type": "code",
   "execution_count": 58,
   "metadata": {},
   "outputs": [],
   "source": [
    "with sqlite3.connect('database.sqlite3') as connection:\n",
    "    cursor = connection.cursor()\n",
    "    result = cursor.execute('UPDATE sample_data SET first_name = \"Anna\" WHERE age >=20 and age <=30')"
   ]
  },
  {
   "cell_type": "markdown",
   "metadata": {},
   "source": [
    "## Zadanie\n",
    "Usuń z tabeli **sample_data** klientów z numerami kont: PL11462380436218108192209769 lub PL50456201958822830819035014"
   ]
  },
  {
   "cell_type": "code",
   "execution_count": 62,
   "metadata": {},
   "outputs": [],
   "source": [
    "with sqlite3.connect('database.sqlite3') as connection:\n",
    "    cursor = connection.cursor()\n",
    "    result = cursor.execute('DELETE FROM sample_data WHERE account_number = \"PL11462380436218108192209769\" or account_number = \"PL50456201958822830819035014\"')"
   ]
  },
  {
   "cell_type": "markdown",
   "metadata": {},
   "source": [
    "## Zadanie\n",
    "tabela **customers**\n",
    "- sprawdź jaką strukturę ma tabela **customers** w bazie **database.sqlite3**\n",
    "- zaimportuj klientów z poniżeszj listy do bazy danych (**tabela customers**). Jako id użyj opcji autoincrement.\n",
    "- zwróć uwagę, że klienci zapisani są jako 'Imie Nazwisko' a w bazie danych na imię i nazwisko są osobne pola."
   ]
  },
  {
   "cell_type": "code",
   "execution_count": 67,
   "metadata": {},
   "outputs": [],
   "source": [
    "customers = ['Bartosz Głowacki', 'Eryk Kamiński', 'Igor Witkowski', 'Olga Szulc', 'Igor Nowak',\n",
    "             'Mikołaj Wasilewski', 'Bogna Stępień', 'Piotr Błaszczyk', 'Małgorzata Wróblewska', 'Bogumił Kaczmarczyk',\n",
    "             'Heronim Marciniak', 'Denis Kowalski', 'Judyta Kaczmarczyk', 'Bartłomiej Nowak', 'Daniela Pietrzak',\n",
    "             'Magda Wójcik', 'Edward Jasiński', 'Adrian Szymczak', 'Elwira Malinowska', 'Małgorzata Makowska',\n",
    "             'Mateusz Mazur', 'Dominika Lis', 'Izabela Witkowska', 'Kewin Kowalczyk', 'Józefa Chmielewska',\n",
    "             'Bernadetta Sadowska', 'Aureliusz Nowak', 'Florentyna Górska', 'Adela Kołodziej', 'Alice Mazur',\n",
    "             'Angelika Duda', 'Julita Górecka', 'Marcelina Duda', 'Alexander Kowalski', 'Filip Brzeziński',\n",
    "             'Paula Zakrzewska', 'Alfred Makowski', 'Alice Błaszczyk', 'Dominika Adamska', 'Aureliusz Pietrzak',\n",
    "             'Damian Kozłowski', 'Dorian Andrzejewski', 'Irena Stępień', 'Ernest Nowak', 'Adriana Kowalska',\n",
    "             'Jowita Kalinowska', 'Asia Dąbrowska', 'Matylda Marciniak', 'Gabriela Szewczyk', 'Julia Szewczyk',\n",
    "             'Pamela Michalak', 'Stanisława Czarnecka', 'Aleksy Przybylski', 'Bartosz Rutkowski', 'Olaf Szymański',\n",
    "             'Lila Jankowska', 'Alisa Sikorska', 'Mikołaj Nowak', 'Stanisława Sawicka', 'Judyta Wojciechowska',\n",
    "             'Balbina Sikorska', 'Barbara Urbańska', 'Bernadetta Urbańska', 'Alojzy Zalewski', 'Julian Kowalczyk',\n",
    "             'Gabriel Nowak', 'Lucyna Sikorska', 'Błażej Ostrowski', 'Alisa Lewandowska', 'Leszek Nowak',\n",
    "             'Dariusz Szymczak', 'Jadwiga Szulc', 'Paula Szymczak', 'Kryspin Szymański', 'Ignacy Kaźmierczak',\n",
    "             'Norbert Jasiński', 'Bogumił Stępień', 'Andrea Szulc', 'Roman Baranowski', 'Marcin Duda',\n",
    "             'Irena Wasilewska', 'Julian Baranowski', 'Lara Nowak', 'Anatol Sawicki', 'Dariusz Zawadzki',\n",
    "             'Lucyna Chmielewska', 'Konstanty Zalewski', 'Paulina Kaczmarczyk', 'Ireneusz Zieliński', 'Asia Nowak',\n",
    "             'Maksymilian Szewczyk', 'Jola Urbańska', 'Denis Zieliński', 'Maciej Głowacki', 'Alex Włodarczyk',\n",
    "             'Gniewomir Laskowski', 'Leonardo Sikorski', 'Amanda Szczepańska', 'Honorata Sokołowska',\n",
    "             'Albert Piotrowski']"
   ]
  },
  {
   "cell_type": "code",
   "execution_count": 73,
   "metadata": {},
   "outputs": [
    {
     "name": "stdout",
     "output_type": "stream",
     "text": [
      "[(1681, 'Bartosz', 'Głowacki'), (1682, 'Eryk', 'Kamiński'), (1683, 'Igor', 'Witkowski'), (1684, 'Olga', 'Szulc'), (1685, 'Igor', 'Nowak'), (1686, 'Mikołaj', 'Wasilewski'), (1687, 'Bogna', 'Stępień'), (1688, 'Piotr', 'Błaszczyk'), (1689, 'Małgorzata', 'Wróblewska'), (1690, 'Bogumił', 'Kaczmarczyk'), (1691, 'Heronim', 'Marciniak'), (1692, 'Denis', 'Kowalski'), (1693, 'Judyta', 'Kaczmarczyk'), (1694, 'Bartłomiej', 'Nowak'), (1695, 'Daniela', 'Pietrzak'), (1696, 'Magda', 'Wójcik'), (1697, 'Edward', 'Jasiński'), (1698, 'Adrian', 'Szymczak'), (1699, 'Elwira', 'Malinowska'), (1700, 'Małgorzata', 'Makowska'), (1701, 'Mateusz', 'Mazur'), (1702, 'Dominika', 'Lis'), (1703, 'Izabela', 'Witkowska'), (1704, 'Kewin', 'Kowalczyk'), (1705, 'Józefa', 'Chmielewska'), (1706, 'Bernadetta', 'Sadowska'), (1707, 'Aureliusz', 'Nowak'), (1708, 'Florentyna', 'Górska'), (1709, 'Adela', 'Kołodziej'), (1710, 'Alice', 'Mazur'), (1711, 'Angelika', 'Duda'), (1712, 'Julita', 'Górecka'), (1713, 'Marcelina', 'Duda'), (1714, 'Alexander', 'Kowalski'), (1715, 'Filip', 'Brzeziński'), (1716, 'Paula', 'Zakrzewska'), (1717, 'Alfred', 'Makowski'), (1718, 'Alice', 'Błaszczyk'), (1719, 'Dominika', 'Adamska'), (1720, 'Aureliusz', 'Pietrzak'), (1721, 'Damian', 'Kozłowski'), (1722, 'Dorian', 'Andrzejewski'), (1723, 'Irena', 'Stępień'), (1724, 'Ernest', 'Nowak'), (1725, 'Adriana', 'Kowalska'), (1726, 'Jowita', 'Kalinowska'), (1727, 'Asia', 'Dąbrowska'), (1728, 'Matylda', 'Marciniak'), (1729, 'Gabriela', 'Szewczyk'), (1730, 'Julia', 'Szewczyk'), (1731, 'Pamela', 'Michalak'), (1732, 'Stanisława', 'Czarnecka'), (1733, 'Aleksy', 'Przybylski'), (1734, 'Bartosz', 'Rutkowski'), (1735, 'Olaf', 'Szymański'), (1736, 'Lila', 'Jankowska'), (1737, 'Alisa', 'Sikorska'), (1738, 'Mikołaj', 'Nowak'), (1739, 'Stanisława', 'Sawicka'), (1740, 'Judyta', 'Wojciechowska'), (1741, 'Balbina', 'Sikorska'), (1742, 'Barbara', 'Urbańska'), (1743, 'Bernadetta', 'Urbańska'), (1744, 'Alojzy', 'Zalewski'), (1745, 'Julian', 'Kowalczyk'), (1746, 'Gabriel', 'Nowak'), (1747, 'Lucyna', 'Sikorska'), (1748, 'Błażej', 'Ostrowski'), (1749, 'Alisa', 'Lewandowska'), (1750, 'Leszek', 'Nowak'), (1751, 'Dariusz', 'Szymczak'), (1752, 'Jadwiga', 'Szulc'), (1753, 'Paula', 'Szymczak'), (1754, 'Kryspin', 'Szymański'), (1755, 'Ignacy', 'Kaźmierczak'), (1756, 'Norbert', 'Jasiński'), (1757, 'Bogumił', 'Stępień'), (1758, 'Andrea', 'Szulc'), (1759, 'Roman', 'Baranowski'), (1760, 'Marcin', 'Duda'), (1761, 'Irena', 'Wasilewska'), (1762, 'Julian', 'Baranowski'), (1763, 'Lara', 'Nowak'), (1764, 'Anatol', 'Sawicki'), (1765, 'Dariusz', 'Zawadzki'), (1766, 'Lucyna', 'Chmielewska'), (1767, 'Konstanty', 'Zalewski'), (1768, 'Paulina', 'Kaczmarczyk'), (1769, 'Ireneusz', 'Zieliński'), (1770, 'Asia', 'Nowak'), (1771, 'Maksymilian', 'Szewczyk'), (1772, 'Jola', 'Urbańska'), (1773, 'Denis', 'Zieliński'), (1774, 'Maciej', 'Głowacki'), (1775, 'Alex', 'Włodarczyk'), (1776, 'Gniewomir', 'Laskowski'), (1777, 'Leonardo', 'Sikorski'), (1778, 'Amanda', 'Szczepańska'), (1779, 'Honorata', 'Sokołowska'), (1780, 'Albert', 'Piotrowski')]\n"
     ]
    }
   ],
   "source": [
    "with sqlite3.connect('database.sqlite3') as connection:\n",
    "    cursor = connection.cursor()\n",
    "    result = cursor.execute ('SELECT * FROM customers').fetchall()\n",
    "    print(result)\n",
    "    if (result == []):\n",
    "        for field_description in cursor.description:\n",
    "            print(field_description)\n",
    "    \n",
    "        for customer in customers:\n",
    "           (first_name, last_name) = customer.split()\n",
    "           result = cursor.execute ('INSERT INTO customers(first_name, last_name) VALUES (?,?)',(first_name, last_name))"
   ]
  },
  {
   "cell_type": "markdown",
   "metadata": {},
   "source": [
    "## Zadanie\n",
    "W bazie (oprócz klientów) znajduje się też **tabela accounts**. Ta tabela ma klucz obcy (pole owner), który powinien wskazywać na konkretnego klienta (takiego, którego id istnieje). Zapisz konta z listy w bazie w taki sposób, aby kolejni klienci byli przypisani do kolejnych kont (relacja powinna być zachowana)."
   ]
  },
  {
   "cell_type": "code",
   "execution_count": 87,
   "metadata": {},
   "outputs": [],
   "source": [
    "accounts = ['PL42222941176247135539240187', 'PL81786645034401957047621964', 'PL61827884040081351674977449',\n",
    "                'PL70724511734909169446820569', 'PL84088258283620570843192707', 'PL20452518470134792225378787',\n",
    "                'PL11462380436218108192209769', 'PL95767827625047808090917558', 'PL23904771660065411425795304',\n",
    "                'PL50456201958822830819035014', 'PL90060634522008222843557969', 'PL09129845100611575983827969',\n",
    "                'PL04933075786409877858276361', 'PL41216396206003046331355076', 'PL76219217364176207985297587',\n",
    "                'PL68993998198602899323173401', 'PL88830777665031601783143189', 'PL65340480182486847430048663',\n",
    "                'PL68863632433343392423227897', 'PL79704373844446106714615582', 'PL62124047339933926409512840',\n",
    "                'PL59936308346070342340713270', 'PL01814461794647716676795119', 'PL14102243867783388006523077',\n",
    "                'PL24392138257182734234089178', 'PL77676884634180964236248552', 'PL01470396332978558099677065',\n",
    "                'PL19347977707644163737014764', 'PL10681175466306981734162786', 'PL59600358209202979627730631',\n",
    "                'PL26886489427644002141973035', 'PL41837024301475584382636046', 'PL11807421031730166977901943',\n",
    "                'PL31375493106710264805821471', 'PL30121680781564585445085558', 'PL29089171293201401336352578',\n",
    "                'PL23603149704722199369074172', 'PL95616902387609198239915671', 'PL57900545121373375343184959',\n",
    "                'PL60136490531189749493055978', 'PL51225145357812942212550821', 'PL77852127455365152554745119',\n",
    "                'PL39991628478868227758642973', 'PL76900952112809978771182959', 'PL65522770617561503650617973',\n",
    "                'PL18357348816848270635281232', 'PL40586063776344068055216527', 'PL21414676378766426692444943',\n",
    "                'PL93629760991267126626993372', 'PL46768173084845201589752230', 'PL20556928680243176079149641',\n",
    "                'PL58260331599237416760457737', 'PL31064108414981300794013926', 'PL01356345801318307683568375',\n",
    "                'PL33051273184191483207656357', 'PL80938217545535385101851725', 'PL84732367737813888530438170',\n",
    "                'PL19215655957894008729243313', 'PL33076090051556570674071668', 'PL62539178393034479371408649',\n",
    "                'PL48908177812717582662144004', 'PL06404640603082015911868457', 'PL96116152184234638165207202',\n",
    "                'PL49574635285322129141468444', 'PL19743931648026435948339706', 'PL69582511090579023733802588',\n",
    "                'PL82585793687620401129209166', 'PL94019190105333137692760549', 'PL33821675745593905060856093',\n",
    "                'PL02338058107271655327334708', 'PL76166179754375889266152754', 'PL26198437171737832118498390',\n",
    "                'PL95502403681241108754729090', 'PL58428109397734769179294471', 'PL21799815390434193920237672',\n",
    "                'PL51797657669605689620730990', 'PL96586930090652429816689728', 'PL06382220739350141398924713',\n",
    "                'PL33181228649464900697716934', 'PL89941988116669068813398429', 'PL73334232772825512182008550',\n",
    "                'PL82916461214174037398335873', 'PL18691754021197599965492442', 'PL82673813626128341820209884',\n",
    "                'PL92423876370750359655316762', 'PL60749924159117402538720566', 'PL37189594313417678231066556',\n",
    "                'PL70123091297399721029963702', 'PL58490631164114600858764664', 'PL13865510264267291860056886',\n",
    "                'PL06469479024555138009439323', 'PL92850233950586676619619528', 'PL85020894599908210318621287',\n",
    "                'PL19472884962405642320767244', 'PL68053747830206845836539399', 'PL33240034460942914479938225',\n",
    "                'PL88089860327088708721744408', 'PL39112899454816845930799230', 'PL16750298033250446608408495',\n",
    "                'PL85353962531367181549425970']"
   ]
  },
  {
   "cell_type": "code",
   "execution_count": 94,
   "metadata": {},
   "outputs": [],
   "source": [
    "account_iter =  iter(accounts)\n",
    "with sqlite3.connect('database.sqlite3') as connection:\n",
    "    cursor_accounts = connection.cursor()\n",
    "    cursor_customers = connection.cursor()\n",
    "    results = cursor_customers.execute ('SELECT id FROM customers')\n",
    "    result = results.fetchone()\n",
    "    while result:\n",
    " #       insert_res = cursor.execute('INSERT INTO accounts')\n",
    "       insert_res = cursor_accounts.execute('INSERT INTO accounts(number,owner) VALUES (?,?)',\n",
    "                                            (next(account_iter),result[0])) \n",
    "       result = results.fetchone()"
   ]
  },
  {
   "cell_type": "markdown",
   "metadata": {},
   "source": [
    "## Zadanie\n",
    "Wykonaj zapytanie o numery kont osób o nazwisku 'Nowak'. Użyj relacji między tabelami customers i accounts."
   ]
  },
  {
   "cell_type": "code",
   "execution_count": 205,
   "metadata": {},
   "outputs": [
    {
     "name": "stdout",
     "output_type": "stream",
     "text": [
      "{'number': 'PL84088258283620570843192707', 'last_name': 'Nowak'}\n",
      "{'number': 'PL41216396206003046331355076', 'last_name': 'Nowak'}\n",
      "{'number': 'PL01470396332978558099677065', 'last_name': 'Nowak'}\n",
      "{'number': 'PL76900952112809978771182959', 'last_name': 'Nowak'}\n",
      "{'number': 'PL19215655957894008729243313', 'last_name': 'Nowak'}\n",
      "{'number': 'PL69582511090579023733802588', 'last_name': 'Nowak'}\n",
      "{'number': 'PL02338058107271655327334708', 'last_name': 'Nowak'}\n",
      "{'number': 'PL18691754021197599965492442', 'last_name': 'Nowak'}\n",
      "{'number': 'PL13865510264267291860056886', 'last_name': 'Nowak'}\n"
     ]
    }
   ],
   "source": [
    "def my_row_factory (cursor, row):\n",
    "    pass     \n",
    "\n",
    "with sqlite3.connect('database.sqlite3') as connection:\n",
    "    cursor_accounts = connection.cursor()\n",
    "    cursor.row_factory = sqlite3.Row\n",
    "    results = cursor.execute \\\n",
    "        ('select number,last_name from accounts join customers on owner=customers.id where last_name = \"Nowak\" ').fetchall()\n",
    "    for result in results:\n",
    "        print(dict(result))"
   ]
  },
  {
   "cell_type": "markdown",
   "metadata": {},
   "source": [
    "## Dodatkowe zagadniena, które można poruszyć\n",
    "Jeśli zostanie czas, to można opowiedzieć o:\n",
    "- row_factory - na co to komu?\n",
    "- wydobywanie obiektów z bazy - pokazać jak zaimplementować prosty mechanizm row_factory `def sample_factory(cursor, row):`\n",
    "- ######\n",
    "- dlaczego się nie zapisuje (brak commit, gdy nie używamy compound statement)\n",
    "- transakcje (isolation_level)\n",
    "- begin / commit / rollback"
   ]
  },
  {
   "cell_type": "markdown",
   "metadata": {},
   "source": [
    "# Wyrażenia regularne"
   ]
  },
  {
   "cell_type": "markdown",
   "metadata": {},
   "source": [
    "```\n",
    "\\d - dowolna cyfra\n",
    "\\D - downy znak, poza cyfrą\n",
    "\\w - dowlona litera (utf-8)\n",
    "\\W - downly znak poza literą\n",
    "\\s - dowlny biały znak (nowa linia, spacja, tabulacja)\n",
    "\\S - dowolny znak, poza białym (nowa linia, spacja, tabulacja)\n",
    "\\n - nowa linia\n",
    "\\t - tabulacja\n",
    "[] - zasięg, np. [a-z], [A-Z], [0-9], [a-zA-Z0-9]\n",
    "() - grupy, np. (?P<imie>\\w+)\n",
    "{} - ilości\n",
    "^ - początek linii lub ciągu znaków\n",
    "$ - koniec linii lub ciągu znaków\n",
    ". - dowolny znak (poza końcem linii)\n",
    "| - alternatywa (or)\n",
    "? - dowolny znak 0 lub 1 raz\n",
    "+ - minimum 1, do nieskończoności\n",
    "* - minimum 0, do nieskończoności.\n",
    "```"
   ]
  },
  {
   "cell_type": "markdown",
   "metadata": {},
   "source": [
    "### re.search(), re.match(), re.findall(), re.finditer()"
   ]
  },
  {
   "cell_type": "markdown",
   "metadata": {},
   "source": [
    "#### Funkcja re.match próbuje odszukać dany wzorzec na początku ciągu. Funkcja search szuka w tekście danego wzorca."
   ]
  },
  {
   "cell_type": "code",
   "execution_count": 19,
   "metadata": {},
   "outputs": [
    {
     "name": "stdout",
     "output_type": "stream",
     "text": [
      "None\n",
      "<re.Match object; span=(0, 3), match='Cod'>\n"
     ]
    }
   ],
   "source": [
    "import re\n",
    "\n",
    "str_ = \"CodIng Academy CodIng Academy\"\n",
    "\n",
    "re_match = re.match( r'Academy', str_)\n",
    "print(re_match)\n",
    "\n",
    "re_match = re.match( r'Cod', str_)\n",
    "print(re_match)"
   ]
  },
  {
   "cell_type": "code",
   "execution_count": 20,
   "metadata": {},
   "outputs": [
    {
     "data": {
      "text/plain": [
       "<re.Match object; span=(7, 14), match='Academy'>"
      ]
     },
     "execution_count": 20,
     "metadata": {},
     "output_type": "execute_result"
    }
   ],
   "source": [
    "re_search = re.search( r'Academy', str_)\n",
    "re_search"
   ]
  },
  {
   "cell_type": "markdown",
   "metadata": {},
   "source": [
    "#### Funkcja findall szuka wszystkie wystąpienia wzorca w tekście, zwraca jako listę. Finditer zwraca  listę obiektów typu match"
   ]
  },
  {
   "cell_type": "code",
   "execution_count": null,
   "metadata": {},
   "outputs": [],
   "source": [
    "re_findall = re.findall( r'Academy', str_)\n",
    "re_findall"
   ]
  },
  {
   "cell_type": "code",
   "execution_count": null,
   "metadata": {},
   "outputs": [],
   "source": [
    "re_finditer = re.finditer( r'Academy', str_)\n",
    "for item in re_finditer:\n",
    "    print(item)"
   ]
  },
  {
   "cell_type": "markdown",
   "metadata": {},
   "source": [
    "### Zadanie"
   ]
  },
  {
   "cell_type": "markdown",
   "metadata": {},
   "source": [
    "### Policzyć w tekście wszystkie słowa. Słowo - zawiera litery i może zawierać myślnik. Wynik - 3"
   ]
  },
  {
   "cell_type": "code",
   "execution_count": 28,
   "metadata": {},
   "outputs": [
    {
     "data": {
      "text/plain": [
       "['Ostatni', 'warsztat', 'rt-te']"
      ]
     },
     "execution_count": 28,
     "metadata": {},
     "output_type": "execute_result"
    }
   ],
   "source": [
    "text = 'Ostatni warsztat >>>:-> @ rt-te'\n",
    "re.findall(r'\\w+-*\\w*', text)"
   ]
  },
  {
   "cell_type": "markdown",
   "metadata": {},
   "source": [
    "### re.split(), re.sub(), re.group()"
   ]
  },
  {
   "cell_type": "markdown",
   "metadata": {},
   "source": [
    "#### re.split() dzieli string w oparciu o zdefiniowane separatory."
   ]
  },
  {
   "cell_type": "code",
   "execution_count": 22,
   "metadata": {},
   "outputs": [
    {
     "data": {
      "text/plain": [
       "['numerklienta', '1234567890']"
      ]
     },
     "execution_count": 22,
     "metadata": {},
     "output_type": "execute_result"
    }
   ],
   "source": [
    "str_ = \"numerklienta: 1234567890\"\n",
    "result=re.split(r\"\\D\\s\", str_) \n",
    "result"
   ]
  },
  {
   "cell_type": "markdown",
   "metadata": {},
   "source": [
    "#### re.sub() podmienia  wzorzecw tekście. "
   ]
  },
  {
   "cell_type": "code",
   "execution_count": 23,
   "metadata": {},
   "outputs": [
    {
     "data": {
      "text/plain": [
       "'Daty logowania: data, data'"
      ]
     },
     "execution_count": 23,
     "metadata": {},
     "output_type": "execute_result"
    }
   ],
   "source": [
    "str_ = 'Daty logowania: 19.01.2020, 01.09.2020'\n",
    "result = re.sub(r'\\d{2}\\.\\d{2}\\.\\d{4}', r'data', str_) \n",
    "result"
   ]
  },
  {
   "cell_type": "markdown",
   "metadata": {},
   "source": [
    "#### re.group()  zwraca  ciąg znaków dopasowania. "
   ]
  },
  {
   "cell_type": "code",
   "execution_count": 24,
   "metadata": {},
   "outputs": [
    {
     "data": {
      "text/plain": [
       "'CodIng Academy'"
      ]
     },
     "execution_count": 24,
     "metadata": {},
     "output_type": "execute_result"
    }
   ],
   "source": [
    "str_ = \"CodIng Academy\"\n",
    "result = re.search(r'(?P<firstword>\\w+) (?P<secondword>\\w+)', str_)\n",
    "result.group()"
   ]
  },
  {
   "cell_type": "code",
   "execution_count": null,
   "metadata": {},
   "outputs": [],
   "source": [
    "result.group(1)"
   ]
  },
  {
   "cell_type": "code",
   "execution_count": null,
   "metadata": {},
   "outputs": [],
   "source": [
    "result.group(2)"
   ]
  },
  {
   "cell_type": "code",
   "execution_count": null,
   "metadata": {},
   "outputs": [],
   "source": [
    "result.groupdict()"
   ]
  },
  {
   "cell_type": "markdown",
   "metadata": {},
   "source": [
    "### Zadania"
   ]
  },
  {
   "cell_type": "markdown",
   "metadata": {},
   "source": [
    "#### Zamień 2 spacji w tekście na jedną"
   ]
  },
  {
   "cell_type": "code",
   "execution_count": 188,
   "metadata": {},
   "outputs": [
    {
     "data": {
      "text/plain": [
       "'Have Fun with Coding'"
      ]
     },
     "execution_count": 188,
     "metadata": {},
     "output_type": "execute_result"
    }
   ],
   "source": [
    "str_ = \"Have  Fun  with Coding\"\n",
    "result = re.sub('\\s{2}', ' ', str_)\n",
    "result"
   ]
  },
  {
   "cell_type": "markdown",
   "metadata": {},
   "source": [
    "#### Podziel string w oparciu o różne separatory: (:, \\, -)"
   ]
  },
  {
   "cell_type": "code",
   "execution_count": 189,
   "metadata": {},
   "outputs": [
    {
     "data": {
      "text/plain": [
       "['numetklienta', '12345678', ' numerrachunku', '09876543', ' klient', 'Jan']"
      ]
     },
     "execution_count": 189,
     "metadata": {},
     "output_type": "execute_result"
    }
   ],
   "source": [
    "str_ = r'numetklienta:12345678, numerrachunku\\09876543, klient-Jan'\n",
    "re.split(r'[:,\\\\-]',str_)"
   ]
  },
  {
   "cell_type": "code",
   "execution_count": 220,
   "metadata": {},
   "outputs": [
    {
     "name": "stdout",
     "output_type": "stream",
     "text": [
      "{'numer_klienta': '12345678', 'numer_rachunku': '09876543', 'name': 'Jan'}\n",
      "('12345678', '09876543', 'Jan')\n"
     ]
    }
   ],
   "source": [
    "str_ = r'numetklienta:12345678, numerrachunku\\09876543, klient-Jan'\n",
    "result = re.search(r'^\\w+:(?P<numer_klienta>\\d+),\\s*\\w+\\\\(?P<numer_rachunku>\\d+),\\s*\\w+\\-(?P<name>.+)$',str_)\n",
    "print(result.groupdict())\n",
    "print(result.groups())\n"
   ]
  },
  {
   "cell_type": "code",
   "execution_count": null,
   "metadata": {},
   "outputs": [],
   "source": []
  },
  {
   "cell_type": "code",
   "execution_count": null,
   "metadata": {},
   "outputs": [],
   "source": []
  }
 ],
 "metadata": {
  "kernelspec": {
   "display_name": "Python 3",
   "language": "python",
   "name": "python3"
  },
  "language_info": {
   "codemirror_mode": {
    "name": "ipython",
    "version": 3
   },
   "file_extension": ".py",
   "mimetype": "text/x-python",
   "name": "python",
   "nbconvert_exporter": "python",
   "pygments_lexer": "ipython3",
   "version": "3.9.0"
  }
 },
 "nbformat": 4,
 "nbformat_minor": 4
}
